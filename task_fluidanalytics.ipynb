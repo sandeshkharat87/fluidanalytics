{
  "nbformat": 4,
  "nbformat_minor": 0,
  "metadata": {
    "colab": {
      "provenance": []
    },
    "kernelspec": {
      "name": "python3",
      "display_name": "Python 3"
    },
    "language_info": {
      "name": "python"
    }
  },
  "cells": [
    {
      "cell_type": "code",
      "execution_count": 11,
      "metadata": {
        "colab": {
          "base_uri": "https://localhost:8080/",
          "height": 1000
        },
        "id": "YRVFxKDUPcBN",
        "outputId": "4c1d94b6-6bbf-4430-fd62-32545b215445"
      },
      "outputs": [
        {
          "output_type": "stream",
          "name": "stdout",
          "text": [
            "Collecting tensorflow==2.12.0\n",
            "  Downloading tensorflow-2.12.0-cp310-cp310-manylinux_2_17_x86_64.manylinux2014_x86_64.whl.metadata (3.4 kB)\n",
            "Requirement already satisfied: absl-py>=1.0.0 in /usr/local/lib/python3.10/dist-packages (from tensorflow==2.12.0) (1.4.0)\n",
            "Requirement already satisfied: astunparse>=1.6.0 in /usr/local/lib/python3.10/dist-packages (from tensorflow==2.12.0) (1.6.3)\n",
            "Requirement already satisfied: flatbuffers>=2.0 in /usr/local/lib/python3.10/dist-packages (from tensorflow==2.12.0) (24.3.25)\n",
            "Collecting gast<=0.4.0,>=0.2.1 (from tensorflow==2.12.0)\n",
            "  Downloading gast-0.4.0-py3-none-any.whl.metadata (1.1 kB)\n",
            "Requirement already satisfied: google-pasta>=0.1.1 in /usr/local/lib/python3.10/dist-packages (from tensorflow==2.12.0) (0.2.0)\n",
            "Requirement already satisfied: grpcio<2.0,>=1.24.3 in /usr/local/lib/python3.10/dist-packages (from tensorflow==2.12.0) (1.64.1)\n",
            "Requirement already satisfied: h5py>=2.9.0 in /usr/local/lib/python3.10/dist-packages (from tensorflow==2.12.0) (3.11.0)\n",
            "Requirement already satisfied: jax>=0.3.15 in /usr/local/lib/python3.10/dist-packages (from tensorflow==2.12.0) (0.4.26)\n",
            "Collecting keras<2.13,>=2.12.0 (from tensorflow==2.12.0)\n",
            "  Downloading keras-2.12.0-py2.py3-none-any.whl.metadata (1.4 kB)\n",
            "Requirement already satisfied: libclang>=13.0.0 in /usr/local/lib/python3.10/dist-packages (from tensorflow==2.12.0) (18.1.1)\n",
            "Collecting numpy<1.24,>=1.22 (from tensorflow==2.12.0)\n",
            "  Downloading numpy-1.23.5-cp310-cp310-manylinux_2_17_x86_64.manylinux2014_x86_64.whl.metadata (2.3 kB)\n",
            "Requirement already satisfied: opt-einsum>=2.3.2 in /usr/local/lib/python3.10/dist-packages (from tensorflow==2.12.0) (3.3.0)\n",
            "Requirement already satisfied: packaging in /usr/local/lib/python3.10/dist-packages (from tensorflow==2.12.0) (24.1)\n",
            "Requirement already satisfied: protobuf!=4.21.0,!=4.21.1,!=4.21.2,!=4.21.3,!=4.21.4,!=4.21.5,<5.0.0dev,>=3.20.3 in /usr/local/lib/python3.10/dist-packages (from tensorflow==2.12.0) (3.20.3)\n",
            "Requirement already satisfied: setuptools in /usr/local/lib/python3.10/dist-packages (from tensorflow==2.12.0) (71.0.4)\n",
            "Requirement already satisfied: six>=1.12.0 in /usr/local/lib/python3.10/dist-packages (from tensorflow==2.12.0) (1.16.0)\n",
            "Collecting tensorboard<2.13,>=2.12 (from tensorflow==2.12.0)\n",
            "  Downloading tensorboard-2.12.3-py3-none-any.whl.metadata (1.8 kB)\n",
            "Collecting tensorflow-estimator<2.13,>=2.12.0 (from tensorflow==2.12.0)\n",
            "  Downloading tensorflow_estimator-2.12.0-py2.py3-none-any.whl.metadata (1.3 kB)\n",
            "Requirement already satisfied: termcolor>=1.1.0 in /usr/local/lib/python3.10/dist-packages (from tensorflow==2.12.0) (2.4.0)\n",
            "Requirement already satisfied: typing-extensions>=3.6.6 in /usr/local/lib/python3.10/dist-packages (from tensorflow==2.12.0) (4.12.2)\n",
            "Collecting wrapt<1.15,>=1.11.0 (from tensorflow==2.12.0)\n",
            "  Downloading wrapt-1.14.1-cp310-cp310-manylinux_2_5_x86_64.manylinux1_x86_64.manylinux_2_17_x86_64.manylinux2014_x86_64.whl.metadata (6.7 kB)\n",
            "Requirement already satisfied: tensorflow-io-gcs-filesystem>=0.23.1 in /usr/local/lib/python3.10/dist-packages (from tensorflow==2.12.0) (0.37.1)\n",
            "Requirement already satisfied: wheel<1.0,>=0.23.0 in /usr/local/lib/python3.10/dist-packages (from astunparse>=1.6.0->tensorflow==2.12.0) (0.44.0)\n",
            "Requirement already satisfied: ml-dtypes>=0.2.0 in /usr/local/lib/python3.10/dist-packages (from jax>=0.3.15->tensorflow==2.12.0) (0.4.0)\n",
            "Requirement already satisfied: scipy>=1.9 in /usr/local/lib/python3.10/dist-packages (from jax>=0.3.15->tensorflow==2.12.0) (1.13.1)\n",
            "Requirement already satisfied: google-auth<3,>=1.6.3 in /usr/local/lib/python3.10/dist-packages (from tensorboard<2.13,>=2.12->tensorflow==2.12.0) (2.27.0)\n",
            "Collecting google-auth-oauthlib<1.1,>=0.5 (from tensorboard<2.13,>=2.12->tensorflow==2.12.0)\n",
            "  Downloading google_auth_oauthlib-1.0.0-py2.py3-none-any.whl.metadata (2.7 kB)\n",
            "Requirement already satisfied: markdown>=2.6.8 in /usr/local/lib/python3.10/dist-packages (from tensorboard<2.13,>=2.12->tensorflow==2.12.0) (3.6)\n",
            "Requirement already satisfied: requests<3,>=2.21.0 in /usr/local/lib/python3.10/dist-packages (from tensorboard<2.13,>=2.12->tensorflow==2.12.0) (2.32.3)\n",
            "Requirement already satisfied: tensorboard-data-server<0.8.0,>=0.7.0 in /usr/local/lib/python3.10/dist-packages (from tensorboard<2.13,>=2.12->tensorflow==2.12.0) (0.7.2)\n",
            "Requirement already satisfied: werkzeug>=1.0.1 in /usr/local/lib/python3.10/dist-packages (from tensorboard<2.13,>=2.12->tensorflow==2.12.0) (3.0.3)\n",
            "Requirement already satisfied: cachetools<6.0,>=2.0.0 in /usr/local/lib/python3.10/dist-packages (from google-auth<3,>=1.6.3->tensorboard<2.13,>=2.12->tensorflow==2.12.0) (5.4.0)\n",
            "Requirement already satisfied: pyasn1-modules>=0.2.1 in /usr/local/lib/python3.10/dist-packages (from google-auth<3,>=1.6.3->tensorboard<2.13,>=2.12->tensorflow==2.12.0) (0.4.0)\n",
            "Requirement already satisfied: rsa<5,>=3.1.4 in /usr/local/lib/python3.10/dist-packages (from google-auth<3,>=1.6.3->tensorboard<2.13,>=2.12->tensorflow==2.12.0) (4.9)\n",
            "Requirement already satisfied: requests-oauthlib>=0.7.0 in /usr/local/lib/python3.10/dist-packages (from google-auth-oauthlib<1.1,>=0.5->tensorboard<2.13,>=2.12->tensorflow==2.12.0) (1.3.1)\n",
            "Requirement already satisfied: charset-normalizer<4,>=2 in /usr/local/lib/python3.10/dist-packages (from requests<3,>=2.21.0->tensorboard<2.13,>=2.12->tensorflow==2.12.0) (3.3.2)\n",
            "Requirement already satisfied: idna<4,>=2.5 in /usr/local/lib/python3.10/dist-packages (from requests<3,>=2.21.0->tensorboard<2.13,>=2.12->tensorflow==2.12.0) (3.7)\n",
            "Requirement already satisfied: urllib3<3,>=1.21.1 in /usr/local/lib/python3.10/dist-packages (from requests<3,>=2.21.0->tensorboard<2.13,>=2.12->tensorflow==2.12.0) (2.0.7)\n",
            "Requirement already satisfied: certifi>=2017.4.17 in /usr/local/lib/python3.10/dist-packages (from requests<3,>=2.21.0->tensorboard<2.13,>=2.12->tensorflow==2.12.0) (2024.7.4)\n",
            "Requirement already satisfied: MarkupSafe>=2.1.1 in /usr/local/lib/python3.10/dist-packages (from werkzeug>=1.0.1->tensorboard<2.13,>=2.12->tensorflow==2.12.0) (2.1.5)\n",
            "Requirement already satisfied: pyasn1<0.7.0,>=0.4.6 in /usr/local/lib/python3.10/dist-packages (from pyasn1-modules>=0.2.1->google-auth<3,>=1.6.3->tensorboard<2.13,>=2.12->tensorflow==2.12.0) (0.6.0)\n",
            "Requirement already satisfied: oauthlib>=3.0.0 in /usr/local/lib/python3.10/dist-packages (from requests-oauthlib>=0.7.0->google-auth-oauthlib<1.1,>=0.5->tensorboard<2.13,>=2.12->tensorflow==2.12.0) (3.2.2)\n",
            "Downloading tensorflow-2.12.0-cp310-cp310-manylinux_2_17_x86_64.manylinux2014_x86_64.whl (585.9 MB)\n",
            "\u001b[2K   \u001b[90m━━━━━━━━━━━━━━━━━━━━━━━━━━━━━━━━━━━━━━━━\u001b[0m \u001b[32m585.9/585.9 MB\u001b[0m \u001b[31m1.1 MB/s\u001b[0m eta \u001b[36m0:00:00\u001b[0m\n",
            "\u001b[?25hDownloading gast-0.4.0-py3-none-any.whl (9.8 kB)\n",
            "Downloading keras-2.12.0-py2.py3-none-any.whl (1.7 MB)\n",
            "\u001b[2K   \u001b[90m━━━━━━━━━━━━━━━━━━━━━━━━━━━━━━━━━━━━━━━━\u001b[0m \u001b[32m1.7/1.7 MB\u001b[0m \u001b[31m44.8 MB/s\u001b[0m eta \u001b[36m0:00:00\u001b[0m\n",
            "\u001b[?25hDownloading numpy-1.23.5-cp310-cp310-manylinux_2_17_x86_64.manylinux2014_x86_64.whl (17.1 MB)\n",
            "\u001b[2K   \u001b[90m━━━━━━━━━━━━━━━━━━━━━━━━━━━━━━━━━━━━━━━━\u001b[0m \u001b[32m17.1/17.1 MB\u001b[0m \u001b[31m44.8 MB/s\u001b[0m eta \u001b[36m0:00:00\u001b[0m\n",
            "\u001b[?25hDownloading tensorboard-2.12.3-py3-none-any.whl (5.6 MB)\n",
            "\u001b[2K   \u001b[90m━━━━━━━━━━━━━━━━━━━━━━━━━━━━━━━━━━━━━━━━\u001b[0m \u001b[32m5.6/5.6 MB\u001b[0m \u001b[31m46.7 MB/s\u001b[0m eta \u001b[36m0:00:00\u001b[0m\n",
            "\u001b[?25hDownloading tensorflow_estimator-2.12.0-py2.py3-none-any.whl (440 kB)\n",
            "\u001b[2K   \u001b[90m━━━━━━━━━━━━━━━━━━━━━━━━━━━━━━━━━━━━━━━━\u001b[0m \u001b[32m440.7/440.7 kB\u001b[0m \u001b[31m18.9 MB/s\u001b[0m eta \u001b[36m0:00:00\u001b[0m\n",
            "\u001b[?25hDownloading wrapt-1.14.1-cp310-cp310-manylinux_2_5_x86_64.manylinux1_x86_64.manylinux_2_17_x86_64.manylinux2014_x86_64.whl (77 kB)\n",
            "\u001b[2K   \u001b[90m━━━━━━━━━━━━━━━━━━━━━━━━━━━━━━━━━━━━━━━━\u001b[0m \u001b[32m77.9/77.9 kB\u001b[0m \u001b[31m5.6 MB/s\u001b[0m eta \u001b[36m0:00:00\u001b[0m\n",
            "\u001b[?25hDownloading google_auth_oauthlib-1.0.0-py2.py3-none-any.whl (18 kB)\n",
            "Installing collected packages: wrapt, tensorflow-estimator, numpy, keras, gast, google-auth-oauthlib, tensorboard, tensorflow\n",
            "  Attempting uninstall: wrapt\n",
            "    Found existing installation: wrapt 1.16.0\n",
            "    Uninstalling wrapt-1.16.0:\n",
            "      Successfully uninstalled wrapt-1.16.0\n",
            "  Attempting uninstall: numpy\n",
            "    Found existing installation: numpy 1.26.4\n",
            "    Uninstalling numpy-1.26.4:\n",
            "      Successfully uninstalled numpy-1.26.4\n",
            "  Attempting uninstall: keras\n",
            "    Found existing installation: keras 3.4.1\n",
            "    Uninstalling keras-3.4.1:\n",
            "      Successfully uninstalled keras-3.4.1\n",
            "  Attempting uninstall: gast\n",
            "    Found existing installation: gast 0.6.0\n",
            "    Uninstalling gast-0.6.0:\n",
            "      Successfully uninstalled gast-0.6.0\n",
            "  Attempting uninstall: google-auth-oauthlib\n",
            "    Found existing installation: google-auth-oauthlib 1.2.1\n",
            "    Uninstalling google-auth-oauthlib-1.2.1:\n",
            "      Successfully uninstalled google-auth-oauthlib-1.2.1\n",
            "  Attempting uninstall: tensorboard\n",
            "    Found existing installation: tensorboard 2.17.0\n",
            "    Uninstalling tensorboard-2.17.0:\n",
            "      Successfully uninstalled tensorboard-2.17.0\n",
            "  Attempting uninstall: tensorflow\n",
            "    Found existing installation: tensorflow 2.17.0\n",
            "    Uninstalling tensorflow-2.17.0:\n",
            "      Successfully uninstalled tensorflow-2.17.0\n",
            "\u001b[31mERROR: pip's dependency resolver does not currently take into account all the packages that are installed. This behaviour is the source of the following dependency conflicts.\n",
            "xgboost 2.1.1 requires nvidia-nccl-cu12; platform_system == \"Linux\" and platform_machine != \"aarch64\", which is not installed.\n",
            "albucore 0.0.13 requires numpy<2,>=1.24.4, but you have numpy 1.23.5 which is incompatible.\n",
            "albumentations 1.4.13 requires numpy>=1.24.4, but you have numpy 1.23.5 which is incompatible.\n",
            "chex 0.1.86 requires numpy>=1.24.1, but you have numpy 1.23.5 which is incompatible.\n",
            "pandas-stubs 2.1.4.231227 requires numpy>=1.26.0; python_version < \"3.13\", but you have numpy 1.23.5 which is incompatible.\n",
            "tf-keras 2.17.0 requires tensorflow<2.18,>=2.17, but you have tensorflow 2.12.0 which is incompatible.\u001b[0m\u001b[31m\n",
            "\u001b[0mSuccessfully installed gast-0.4.0 google-auth-oauthlib-1.0.0 keras-2.12.0 numpy-1.23.5 tensorboard-2.12.3 tensorflow-2.12.0 tensorflow-estimator-2.12.0 wrapt-1.14.1\n"
          ]
        },
        {
          "output_type": "display_data",
          "data": {
            "application/vnd.colab-display-data+json": {
              "pip_warning": {
                "packages": [
                  "gast",
                  "keras",
                  "numpy",
                  "tensorflow",
                  "wrapt"
                ]
              },
              "id": "21c96826a87b4f089412691568b70e17"
            }
          },
          "metadata": {}
        }
      ],
      "source": [
        "!pip install tensorflow==2.12.0"
      ]
    },
    {
      "cell_type": "code",
      "source": [
        "import tensorflow  as tf\n",
        "tf.__version__"
      ],
      "metadata": {
        "colab": {
          "base_uri": "https://localhost:8080/",
          "height": 36
        },
        "id": "xXXM3276RLZC",
        "outputId": "eaabf34f-ba34-4d9a-9a61-779803778ce1"
      },
      "execution_count": 1,
      "outputs": [
        {
          "output_type": "execute_result",
          "data": {
            "text/plain": [
              "'2.12.0'"
            ],
            "application/vnd.google.colaboratory.intrinsic+json": {
              "type": "string"
            }
          },
          "metadata": {},
          "execution_count": 1
        }
      ]
    },
    {
      "cell_type": "code",
      "source": [
        "!unzip /content/Fluid-AI-Project.zip -d project_data"
      ],
      "metadata": {
        "colab": {
          "base_uri": "https://localhost:8080/"
        },
        "collapsed": true,
        "id": "Uzztu5S3Yt1D",
        "outputId": "8c9719cf-cf4f-4379-fa6c-7c0e479a4951"
      },
      "execution_count": 2,
      "outputs": [
        {
          "output_type": "stream",
          "name": "stdout",
          "text": [
            "Archive:  /content/Fluid-AI-Project.zip\n",
            "   creating: project_data/content/project_data/\n",
            "  inflating: project_data/content/project_data/keras_model.h5  \n",
            "   creating: project_data/content/project_data/__MACOSX/\n",
            "   creating: project_data/content/project_data/__MACOSX/Validation_data/\n",
            "   creating: project_data/content/project_data/__MACOSX/Validation_data/num8/\n",
            "  inflating: project_data/content/project_data/__MACOSX/Validation_data/num8/._img009-032.png  \n",
            "  inflating: project_data/content/project_data/__MACOSX/Validation_data/num8/._img009-031.png  \n",
            "  inflating: project_data/content/project_data/__MACOSX/Validation_data/num8/._img009-038.png  \n",
            "  inflating: project_data/content/project_data/__MACOSX/Validation_data/num8/._img009-037.png  \n",
            "  inflating: project_data/content/project_data/__MACOSX/Validation_data/num8/._img009-034.png  \n",
            "  inflating: project_data/content/project_data/__MACOSX/Validation_data/num8/._img009-033.png  \n",
            "  inflating: project_data/content/project_data/__MACOSX/Validation_data/num8/._img009-035.png  \n",
            "  inflating: project_data/content/project_data/__MACOSX/Validation_data/num8/._img009-039.png  \n",
            "  inflating: project_data/content/project_data/__MACOSX/Validation_data/num8/._img009-036.png  \n",
            "  inflating: project_data/content/project_data/__MACOSX/Validation_data/num8/._img009-040.png  \n",
            "   creating: project_data/content/project_data/__MACOSX/Validation_data/num2/\n",
            "  inflating: project_data/content/project_data/__MACOSX/Validation_data/num2/._img003-040.png  \n",
            "  inflating: project_data/content/project_data/__MACOSX/Validation_data/num2/._img003-035.png  \n",
            "  inflating: project_data/content/project_data/__MACOSX/Validation_data/num2/._img003-032.png  \n",
            "  inflating: project_data/content/project_data/__MACOSX/Validation_data/num2/._img003-034.png  \n",
            "  inflating: project_data/content/project_data/__MACOSX/Validation_data/num2/._img003-038.png  \n",
            "  inflating: project_data/content/project_data/__MACOSX/Validation_data/num2/._img003-031.png  \n",
            "  inflating: project_data/content/project_data/__MACOSX/Validation_data/num2/._img003-039.png  \n",
            "  inflating: project_data/content/project_data/__MACOSX/Validation_data/num2/._img003-036.png  \n",
            "  inflating: project_data/content/project_data/__MACOSX/Validation_data/num2/._img003-037.png  \n",
            "  inflating: project_data/content/project_data/__MACOSX/Validation_data/num2/._img003-033.png  \n",
            "   creating: project_data/content/project_data/__MACOSX/Validation_data/num9/\n",
            "  inflating: project_data/content/project_data/__MACOSX/Validation_data/num9/._img010-033.png  \n",
            "  inflating: project_data/content/project_data/__MACOSX/Validation_data/num9/._img010-040.png  \n",
            "  inflating: project_data/content/project_data/__MACOSX/Validation_data/num9/._img010-034.png  \n",
            "  inflating: project_data/content/project_data/__MACOSX/Validation_data/num9/._img010-038.png  \n",
            "  inflating: project_data/content/project_data/__MACOSX/Validation_data/num9/._img010-032.png  \n",
            "  inflating: project_data/content/project_data/__MACOSX/Validation_data/num9/._img010-035.png  \n",
            "  inflating: project_data/content/project_data/__MACOSX/Validation_data/num9/._img010-031.png  \n",
            "  inflating: project_data/content/project_data/__MACOSX/Validation_data/num9/._img010-039.png  \n",
            "  inflating: project_data/content/project_data/__MACOSX/Validation_data/num9/._img010-037.png  \n",
            "  inflating: project_data/content/project_data/__MACOSX/Validation_data/num9/._img010-036.png  \n",
            "   creating: project_data/content/project_data/__MACOSX/Validation_data/num3/\n",
            "  inflating: project_data/content/project_data/__MACOSX/Validation_data/num3/._img004-032.png  \n",
            "  inflating: project_data/content/project_data/__MACOSX/Validation_data/num3/._img004-038.png  \n",
            "  inflating: project_data/content/project_data/__MACOSX/Validation_data/num3/._img004-035.png  \n",
            "  inflating: project_data/content/project_data/__MACOSX/Validation_data/num3/._img004-040.png  \n",
            "  inflating: project_data/content/project_data/__MACOSX/Validation_data/num3/._img004-039.png  \n",
            "  inflating: project_data/content/project_data/__MACOSX/Validation_data/num3/._img004-031.png  \n",
            "  inflating: project_data/content/project_data/__MACOSX/Validation_data/num3/._img004-034.png  \n",
            "  inflating: project_data/content/project_data/__MACOSX/Validation_data/num3/._img004-036.png  \n",
            "  inflating: project_data/content/project_data/__MACOSX/Validation_data/num3/._.DS_Store  \n",
            "  inflating: project_data/content/project_data/__MACOSX/Validation_data/num3/._img004-037.png  \n",
            "  inflating: project_data/content/project_data/__MACOSX/Validation_data/num3/._img004-033.png  \n",
            "   creating: project_data/content/project_data/__MACOSX/Validation_data/num4/\n",
            "  inflating: project_data/content/project_data/__MACOSX/Validation_data/num4/._img005-037.png  \n",
            "  inflating: project_data/content/project_data/__MACOSX/Validation_data/num4/._img005-036.png  \n",
            "  inflating: project_data/content/project_data/__MACOSX/Validation_data/num4/._img005-039.png  \n",
            "  inflating: project_data/content/project_data/__MACOSX/Validation_data/num4/._img005-031.png  \n",
            "  inflating: project_data/content/project_data/__MACOSX/Validation_data/num4/._img005-040.png  \n",
            "  inflating: project_data/content/project_data/__MACOSX/Validation_data/num4/._img005-034.png  \n",
            "  inflating: project_data/content/project_data/__MACOSX/Validation_data/num4/._img005-035.png  \n",
            "  inflating: project_data/content/project_data/__MACOSX/Validation_data/num4/._img005-033.png  \n",
            "  inflating: project_data/content/project_data/__MACOSX/Validation_data/num4/._img005-038.png  \n",
            "  inflating: project_data/content/project_data/__MACOSX/Validation_data/num4/._img005-032.png  \n",
            "   creating: project_data/content/project_data/__MACOSX/Validation_data/num7/\n",
            "  inflating: project_data/content/project_data/__MACOSX/Validation_data/num7/._img008-038.png  \n",
            "  inflating: project_data/content/project_data/__MACOSX/Validation_data/num7/._img008-040.png  \n",
            "  inflating: project_data/content/project_data/__MACOSX/Validation_data/num7/._img008-032.png  \n",
            "  inflating: project_data/content/project_data/__MACOSX/Validation_data/num7/._img008-035.png  \n",
            "  inflating: project_data/content/project_data/__MACOSX/Validation_data/num7/._img008-039.png  \n",
            "  inflating: project_data/content/project_data/__MACOSX/Validation_data/num7/._img008-033.png  \n",
            "  inflating: project_data/content/project_data/__MACOSX/Validation_data/num7/._img008-031.png  \n",
            "  inflating: project_data/content/project_data/__MACOSX/Validation_data/num7/._img008-037.png  \n",
            "  inflating: project_data/content/project_data/__MACOSX/Validation_data/num7/._img008-036.png  \n",
            "  inflating: project_data/content/project_data/__MACOSX/Validation_data/num7/._img008-034.png  \n",
            "   creating: project_data/content/project_data/__MACOSX/Validation_data/num1/\n",
            "  inflating: project_data/content/project_data/__MACOSX/Validation_data/num1/._img002-033.png  \n",
            "  inflating: project_data/content/project_data/__MACOSX/Validation_data/num1/._img002-039.png  \n",
            "  inflating: project_data/content/project_data/__MACOSX/Validation_data/num1/._img002-037.png  \n",
            "  inflating: project_data/content/project_data/__MACOSX/Validation_data/num1/._img002-036.png  \n",
            "  inflating: project_data/content/project_data/__MACOSX/Validation_data/num1/._img002-035.png  \n",
            "  inflating: project_data/content/project_data/__MACOSX/Validation_data/num1/._img002-032.png  \n",
            "  inflating: project_data/content/project_data/__MACOSX/Validation_data/num1/._img002-034.png  \n",
            "  inflating: project_data/content/project_data/__MACOSX/Validation_data/num1/._img002-040.png  \n",
            "  inflating: project_data/content/project_data/__MACOSX/Validation_data/num1/._img002-038.png  \n",
            "  inflating: project_data/content/project_data/__MACOSX/Validation_data/num1/._img002-031.png  \n",
            "   creating: project_data/content/project_data/__MACOSX/Validation_data/num6/\n",
            "  inflating: project_data/content/project_data/__MACOSX/Validation_data/num6/._img007-038.png  \n",
            "  inflating: project_data/content/project_data/__MACOSX/Validation_data/num6/._img007-033.png  \n",
            "  inflating: project_data/content/project_data/__MACOSX/Validation_data/num6/._img007-035.png  \n",
            "  inflating: project_data/content/project_data/__MACOSX/Validation_data/num6/._img007-040.png  \n",
            "  inflating: project_data/content/project_data/__MACOSX/Validation_data/num6/._img007-032.png  \n",
            "  inflating: project_data/content/project_data/__MACOSX/Validation_data/num6/._img007-039.png  \n",
            "  inflating: project_data/content/project_data/__MACOSX/Validation_data/num6/._img007-037.png  \n",
            "  inflating: project_data/content/project_data/__MACOSX/Validation_data/num6/._img007-034.png  \n",
            "  inflating: project_data/content/project_data/__MACOSX/Validation_data/num6/._img007-036.png  \n",
            "  inflating: project_data/content/project_data/__MACOSX/Validation_data/num6/._img007-031.png  \n",
            "  inflating: project_data/content/project_data/__MACOSX/Validation_data/._.DS_Store  \n",
            "   creating: project_data/content/project_data/__MACOSX/Validation_data/num0/\n",
            "  inflating: project_data/content/project_data/__MACOSX/Validation_data/num0/._img001-034.png  \n",
            "  inflating: project_data/content/project_data/__MACOSX/Validation_data/num0/._img001-032.png  \n",
            "  inflating: project_data/content/project_data/__MACOSX/Validation_data/num0/._img001-031.png  \n",
            "  inflating: project_data/content/project_data/__MACOSX/Validation_data/num0/._img001-038.png  \n",
            "  inflating: project_data/content/project_data/__MACOSX/Validation_data/num0/._img001-035.png  \n",
            "  inflating: project_data/content/project_data/__MACOSX/Validation_data/num0/._img001-033.png  \n",
            "  inflating: project_data/content/project_data/__MACOSX/Validation_data/num0/._img001-040.png  \n",
            "  inflating: project_data/content/project_data/__MACOSX/Validation_data/num0/._img001-039.png  \n",
            "  inflating: project_data/content/project_data/__MACOSX/Validation_data/num0/._img001-036.png  \n",
            "  inflating: project_data/content/project_data/__MACOSX/Validation_data/num0/._img001-037.png  \n",
            "  inflating: project_data/content/project_data/__MACOSX/Validation_data/num0/._.DS_Store  \n",
            "   creating: project_data/content/project_data/__MACOSX/Validation_data/num5/\n",
            "  inflating: project_data/content/project_data/__MACOSX/Validation_data/num5/._img006-034.png  \n",
            "  inflating: project_data/content/project_data/__MACOSX/Validation_data/num5/._img006-035.png  \n",
            "  inflating: project_data/content/project_data/__MACOSX/Validation_data/num5/._img006-036.png  \n",
            "  inflating: project_data/content/project_data/__MACOSX/Validation_data/num5/._img006-038.png  \n",
            "  inflating: project_data/content/project_data/__MACOSX/Validation_data/num5/._img006-037.png  \n",
            "  inflating: project_data/content/project_data/__MACOSX/Validation_data/num5/._img006-040.png  \n",
            "  inflating: project_data/content/project_data/__MACOSX/Validation_data/num5/._img006-032.png  \n",
            "  inflating: project_data/content/project_data/__MACOSX/Validation_data/num5/._img006-033.png  \n",
            "  inflating: project_data/content/project_data/__MACOSX/Validation_data/num5/._img006-039.png  \n",
            "  inflating: project_data/content/project_data/__MACOSX/Validation_data/num5/._img006-031.png  \n",
            "   creating: project_data/content/project_data/__MACOSX/Training_data/\n",
            "   creating: project_data/content/project_data/__MACOSX/Training_data/num8/\n",
            "  inflating: project_data/content/project_data/__MACOSX/Training_data/num8/._img009-010.png  \n",
            "  inflating: project_data/content/project_data/__MACOSX/Training_data/num8/._img009-008.png  \n",
            "  inflating: project_data/content/project_data/__MACOSX/Training_data/num8/._img009-011.png  \n",
            "  inflating: project_data/content/project_data/__MACOSX/Training_data/num8/._img009-029.png  \n",
            "  inflating: project_data/content/project_data/__MACOSX/Training_data/num8/._img009-003.png  \n",
            "  inflating: project_data/content/project_data/__MACOSX/Training_data/num8/._img009-021.png  \n",
            "  inflating: project_data/content/project_data/__MACOSX/Training_data/num8/._img009-027.png  \n",
            "  inflating: project_data/content/project_data/__MACOSX/Training_data/num8/._img009-019.png  \n",
            "  inflating: project_data/content/project_data/__MACOSX/Training_data/num8/._img009-018.png  \n",
            "  inflating: project_data/content/project_data/__MACOSX/Training_data/num8/._img009-026.png  \n",
            "  inflating: project_data/content/project_data/__MACOSX/Training_data/num8/._img009-030.png  \n",
            "  inflating: project_data/content/project_data/__MACOSX/Training_data/num8/._img009-023.png  \n",
            "  inflating: project_data/content/project_data/__MACOSX/Training_data/num8/._img009-024.png  \n",
            "  inflating: project_data/content/project_data/__MACOSX/Training_data/num8/._img009-015.png  \n",
            "  inflating: project_data/content/project_data/__MACOSX/Training_data/num8/._img009-014.png  \n",
            "  inflating: project_data/content/project_data/__MACOSX/Training_data/num8/._img009-017.png  \n",
            "  inflating: project_data/content/project_data/__MACOSX/Training_data/num8/._img009-013.png  \n",
            "  inflating: project_data/content/project_data/__MACOSX/Training_data/num8/._img009-007.png  \n",
            "  inflating: project_data/content/project_data/__MACOSX/Training_data/num8/._img009-016.png  \n",
            "  inflating: project_data/content/project_data/__MACOSX/Training_data/num8/._img009-001.png  \n",
            "  inflating: project_data/content/project_data/__MACOSX/Training_data/num8/._img009-009.png  \n",
            "  inflating: project_data/content/project_data/__MACOSX/Training_data/num8/._img009-022.png  \n",
            "  inflating: project_data/content/project_data/__MACOSX/Training_data/num8/._img009-002.png  \n",
            "  inflating: project_data/content/project_data/__MACOSX/Training_data/num8/._img009-005.png  \n",
            "  inflating: project_data/content/project_data/__MACOSX/Training_data/num8/._img009-020.png  \n",
            "  inflating: project_data/content/project_data/__MACOSX/Training_data/num8/._img009-004.png  \n",
            "  inflating: project_data/content/project_data/__MACOSX/Training_data/num8/._img009-012.png  \n",
            "  inflating: project_data/content/project_data/__MACOSX/Training_data/num8/._img009-006.png  \n",
            "  inflating: project_data/content/project_data/__MACOSX/Training_data/num8/._img009-025.png  \n",
            "  inflating: project_data/content/project_data/__MACOSX/Training_data/num8/._img009-028.png  \n",
            "   creating: project_data/content/project_data/__MACOSX/Training_data/num2/\n",
            "  inflating: project_data/content/project_data/__MACOSX/Training_data/num2/._img003-025.png  \n",
            "  inflating: project_data/content/project_data/__MACOSX/Training_data/num2/._img003-016.png  \n",
            "  inflating: project_data/content/project_data/__MACOSX/Training_data/num2/._img003-002.png  \n",
            "  inflating: project_data/content/project_data/__MACOSX/Training_data/num2/._img003-004.png  \n",
            "  inflating: project_data/content/project_data/__MACOSX/Training_data/num2/._img003-026.png  \n",
            "  inflating: project_data/content/project_data/__MACOSX/Training_data/num2/._img003-011.png  \n",
            "  inflating: project_data/content/project_data/__MACOSX/Training_data/num2/._img003-007.png  \n",
            "  inflating: project_data/content/project_data/__MACOSX/Training_data/num2/._img003-003.png  \n",
            "  inflating: project_data/content/project_data/__MACOSX/Training_data/num2/._img003-027.png  \n",
            "  inflating: project_data/content/project_data/__MACOSX/Training_data/num2/._img003-023.png  \n",
            "  inflating: project_data/content/project_data/__MACOSX/Training_data/num2/._img003-024.png  \n",
            "  inflating: project_data/content/project_data/__MACOSX/Training_data/num2/._img003-020.png  \n",
            "  inflating: project_data/content/project_data/__MACOSX/Training_data/num2/._img003-008.png  \n",
            "  inflating: project_data/content/project_data/__MACOSX/Training_data/num2/._img003-015.png  \n",
            "  inflating: project_data/content/project_data/__MACOSX/Training_data/num2/._img003-029.png  \n",
            "  inflating: project_data/content/project_data/__MACOSX/Training_data/num2/._img003-013.png  \n",
            "  inflating: project_data/content/project_data/__MACOSX/Training_data/num2/._img003-001.png  \n",
            "  inflating: project_data/content/project_data/__MACOSX/Training_data/num2/._img003-028.png  \n",
            "  inflating: project_data/content/project_data/__MACOSX/Training_data/num2/._img003-018.png  \n",
            "  inflating: project_data/content/project_data/__MACOSX/Training_data/num2/._img003-017.png  \n",
            "  inflating: project_data/content/project_data/__MACOSX/Training_data/num2/._img003-012.png  \n",
            "  inflating: project_data/content/project_data/__MACOSX/Training_data/num2/._img003-010.png  \n",
            "  inflating: project_data/content/project_data/__MACOSX/Training_data/num2/._img003-021.png  \n",
            "  inflating: project_data/content/project_data/__MACOSX/Training_data/num2/._img003-009.png  \n",
            "  inflating: project_data/content/project_data/__MACOSX/Training_data/num2/._img003-022.png  \n",
            "  inflating: project_data/content/project_data/__MACOSX/Training_data/num2/._img003-006.png  \n",
            "  inflating: project_data/content/project_data/__MACOSX/Training_data/num2/._img003-030.png  \n",
            "  inflating: project_data/content/project_data/__MACOSX/Training_data/num2/._img003-014.png  \n",
            "  inflating: project_data/content/project_data/__MACOSX/Training_data/num2/._img003-005.png  \n",
            "  inflating: project_data/content/project_data/__MACOSX/Training_data/num2/._img003-019.png  \n",
            "   creating: project_data/content/project_data/__MACOSX/Training_data/num9/\n",
            "  inflating: project_data/content/project_data/__MACOSX/Training_data/num9/._img010-022.png  \n",
            "  inflating: project_data/content/project_data/__MACOSX/Training_data/num9/._img010-001.png  \n",
            "  inflating: project_data/content/project_data/__MACOSX/Training_data/num9/._img010-020.png  \n",
            "  inflating: project_data/content/project_data/__MACOSX/Training_data/num9/._img010-002.png  \n",
            "  inflating: project_data/content/project_data/__MACOSX/Training_data/num9/._img010-009.png  \n",
            "  inflating: project_data/content/project_data/__MACOSX/Training_data/num9/._img010-019.png  \n",
            "  inflating: project_data/content/project_data/__MACOSX/Training_data/num9/._img010-013.png  \n",
            "  inflating: project_data/content/project_data/__MACOSX/Training_data/num9/._img010-023.png  \n",
            "  inflating: project_data/content/project_data/__MACOSX/Training_data/num9/._img010-021.png  \n",
            "  inflating: project_data/content/project_data/__MACOSX/Training_data/num9/._img010-008.png  \n",
            "  inflating: project_data/content/project_data/__MACOSX/Training_data/num9/._img010-014.png  \n",
            "  inflating: project_data/content/project_data/__MACOSX/Training_data/num9/._img010-024.png  \n",
            "  inflating: project_data/content/project_data/__MACOSX/Training_data/num9/._img010-025.png  \n",
            "  inflating: project_data/content/project_data/__MACOSX/Training_data/num9/._img010-028.png  \n",
            "  inflating: project_data/content/project_data/__MACOSX/Training_data/num9/._img010-003.png  \n",
            "  inflating: project_data/content/project_data/__MACOSX/Training_data/num9/._img010-012.png  \n",
            "  inflating: project_data/content/project_data/__MACOSX/Training_data/num9/._img010-004.png  \n",
            "  inflating: project_data/content/project_data/__MACOSX/Training_data/num9/._img010-026.png  \n",
            "  inflating: project_data/content/project_data/__MACOSX/Training_data/num9/._img010-030.png  \n",
            "  inflating: project_data/content/project_data/__MACOSX/Training_data/num9/._img010-027.png  \n",
            "  inflating: project_data/content/project_data/__MACOSX/Training_data/num9/._img010-007.png  \n",
            "  inflating: project_data/content/project_data/__MACOSX/Training_data/num9/._img010-006.png  \n",
            "  inflating: project_data/content/project_data/__MACOSX/Training_data/num9/._img010-005.png  \n",
            "  inflating: project_data/content/project_data/__MACOSX/Training_data/num9/._img010-015.png  \n",
            "  inflating: project_data/content/project_data/__MACOSX/Training_data/num9/._img010-017.png  \n",
            "  inflating: project_data/content/project_data/__MACOSX/Training_data/num9/._img010-010.png  \n",
            "  inflating: project_data/content/project_data/__MACOSX/Training_data/num9/._img010-011.png  \n",
            "  inflating: project_data/content/project_data/__MACOSX/Training_data/num9/._img010-016.png  \n",
            "  inflating: project_data/content/project_data/__MACOSX/Training_data/num9/._img010-018.png  \n",
            "  inflating: project_data/content/project_data/__MACOSX/Training_data/num9/._img010-029.png  \n",
            "   creating: project_data/content/project_data/__MACOSX/Training_data/num3/\n",
            "  inflating: project_data/content/project_data/__MACOSX/Training_data/num3/._img004-003.png  \n",
            "  inflating: project_data/content/project_data/__MACOSX/Training_data/num3/._img004-021.png  \n",
            "  inflating: project_data/content/project_data/__MACOSX/Training_data/num3/._img004-001.png  \n",
            "  inflating: project_data/content/project_data/__MACOSX/Training_data/num3/._img004-020.png  \n",
            "  inflating: project_data/content/project_data/__MACOSX/Training_data/num3/._img004-029.png  \n",
            "  inflating: project_data/content/project_data/__MACOSX/Training_data/num3/._img004-011.png  \n",
            "  inflating: project_data/content/project_data/__MACOSX/Training_data/num3/._img004-026.png  \n",
            "  inflating: project_data/content/project_data/__MACOSX/Training_data/num3/._img004-017.png  \n",
            "  inflating: project_data/content/project_data/__MACOSX/Training_data/num3/._img004-023.png  \n",
            "  inflating: project_data/content/project_data/__MACOSX/Training_data/num3/._img004-018.png  \n",
            "  inflating: project_data/content/project_data/__MACOSX/Training_data/num3/._img004-027.png  \n",
            "  inflating: project_data/content/project_data/__MACOSX/Training_data/num3/._img004-006.png  \n",
            "  inflating: project_data/content/project_data/__MACOSX/Training_data/num3/._img004-002.png  \n",
            "  inflating: project_data/content/project_data/__MACOSX/Training_data/num3/._img004-007.png  \n",
            "  inflating: project_data/content/project_data/__MACOSX/Training_data/num3/._img004-019.png  \n",
            "  inflating: project_data/content/project_data/__MACOSX/Training_data/num3/._img004-010.png  \n",
            "  inflating: project_data/content/project_data/__MACOSX/Training_data/num3/._img004-022.png  \n",
            "  inflating: project_data/content/project_data/__MACOSX/Training_data/num3/._img004-014.png  \n",
            "  inflating: project_data/content/project_data/__MACOSX/Training_data/num3/._img004-028.png  \n",
            "  inflating: project_data/content/project_data/__MACOSX/Training_data/num3/._img004-030.png  \n",
            "  inflating: project_data/content/project_data/__MACOSX/Training_data/num3/._img004-024.png  \n",
            "  inflating: project_data/content/project_data/__MACOSX/Training_data/num3/._img004-013.png  \n",
            "  inflating: project_data/content/project_data/__MACOSX/Training_data/num3/._img004-025.png  \n",
            "  inflating: project_data/content/project_data/__MACOSX/Training_data/num3/._img004-016.png  \n",
            "  inflating: project_data/content/project_data/__MACOSX/Training_data/num3/._img004-009.png  \n",
            "  inflating: project_data/content/project_data/__MACOSX/Training_data/num3/._img004-015.png  \n",
            "  inflating: project_data/content/project_data/__MACOSX/Training_data/num3/._.DS_Store  \n",
            "  inflating: project_data/content/project_data/__MACOSX/Training_data/num3/._img004-012.png  \n",
            "  inflating: project_data/content/project_data/__MACOSX/Training_data/num3/._img004-005.png  \n",
            "  inflating: project_data/content/project_data/__MACOSX/Training_data/num3/._img004-008.png  \n",
            "  inflating: project_data/content/project_data/__MACOSX/Training_data/num3/._img004-004.png  \n",
            "   creating: project_data/content/project_data/__MACOSX/Training_data/num4/\n",
            "  inflating: project_data/content/project_data/__MACOSX/Training_data/num4/._img005-010.png  \n",
            "  inflating: project_data/content/project_data/__MACOSX/Training_data/num4/._img005-024.png  \n",
            "  inflating: project_data/content/project_data/__MACOSX/Training_data/num4/._img005-011.png  \n",
            "  inflating: project_data/content/project_data/__MACOSX/Training_data/num4/._img005-013.png  \n",
            "  inflating: project_data/content/project_data/__MACOSX/Training_data/num4/._img005-022.png  \n",
            "  inflating: project_data/content/project_data/__MACOSX/Training_data/num4/._img005-003.png  \n",
            "  inflating: project_data/content/project_data/__MACOSX/Training_data/num4/._img005-014.png  \n",
            "  inflating: project_data/content/project_data/__MACOSX/Training_data/num4/._img005-006.png  \n",
            "  inflating: project_data/content/project_data/__MACOSX/Training_data/num4/._img005-018.png  \n",
            "  inflating: project_data/content/project_data/__MACOSX/Training_data/num4/._img005-026.png  \n",
            "  inflating: project_data/content/project_data/__MACOSX/Training_data/num4/._img005-027.png  \n",
            "  inflating: project_data/content/project_data/__MACOSX/Training_data/num4/._img005-007.png  \n",
            "  inflating: project_data/content/project_data/__MACOSX/Training_data/num4/._img005-030.png  \n",
            "  inflating: project_data/content/project_data/__MACOSX/Training_data/num4/._img005-020.png  \n",
            "  inflating: project_data/content/project_data/__MACOSX/Training_data/num4/._img005-023.png  \n",
            "  inflating: project_data/content/project_data/__MACOSX/Training_data/num4/._img005-004.png  \n",
            "  inflating: project_data/content/project_data/__MACOSX/Training_data/num4/._img005-017.png  \n",
            "  inflating: project_data/content/project_data/__MACOSX/Training_data/num4/._img005-025.png  \n",
            "  inflating: project_data/content/project_data/__MACOSX/Training_data/num4/._img005-001.png  \n",
            "  inflating: project_data/content/project_data/__MACOSX/Training_data/num4/._img005-016.png  \n",
            "  inflating: project_data/content/project_data/__MACOSX/Training_data/num4/._img005-029.png  \n",
            "  inflating: project_data/content/project_data/__MACOSX/Training_data/num4/._img005-008.png  \n",
            "  inflating: project_data/content/project_data/__MACOSX/Training_data/num4/._img005-002.png  \n",
            "  inflating: project_data/content/project_data/__MACOSX/Training_data/num4/._img005-015.png  \n",
            "  inflating: project_data/content/project_data/__MACOSX/Training_data/num4/._img005-021.png  \n",
            "  inflating: project_data/content/project_data/__MACOSX/Training_data/num4/._img005-019.png  \n",
            "  inflating: project_data/content/project_data/__MACOSX/Training_data/num4/._img005-012.png  \n",
            "  inflating: project_data/content/project_data/__MACOSX/Training_data/num4/._img005-005.png  \n",
            "  inflating: project_data/content/project_data/__MACOSX/Training_data/num4/._img005-028.png  \n",
            "  inflating: project_data/content/project_data/__MACOSX/Training_data/num4/._img005-009.png  \n",
            "   creating: project_data/content/project_data/__MACOSX/Training_data/num7/\n",
            "  inflating: project_data/content/project_data/__MACOSX/Training_data/num7/._img008-015.png  \n",
            "  inflating: project_data/content/project_data/__MACOSX/Training_data/num7/._img008-011.png  \n",
            "  inflating: project_data/content/project_data/__MACOSX/Training_data/num7/._img008-023.png  \n",
            "  inflating: project_data/content/project_data/__MACOSX/Training_data/num7/._img008-025.png  \n",
            "  inflating: project_data/content/project_data/__MACOSX/Training_data/num7/._img008-021.png  \n",
            "  inflating: project_data/content/project_data/__MACOSX/Training_data/num7/._img008-007.png  \n",
            "  inflating: project_data/content/project_data/__MACOSX/Training_data/num7/._img008-027.png  \n",
            "  inflating: project_data/content/project_data/__MACOSX/Training_data/num7/._img008-005.png  \n",
            "  inflating: project_data/content/project_data/__MACOSX/Training_data/num7/._img008-030.png  \n",
            "  inflating: project_data/content/project_data/__MACOSX/Training_data/num7/._img008-002.png  \n",
            "  inflating: project_data/content/project_data/__MACOSX/Training_data/num7/._img008-022.png  \n",
            "  inflating: project_data/content/project_data/__MACOSX/Training_data/num7/._img008-012.png  \n",
            "  inflating: project_data/content/project_data/__MACOSX/Training_data/num7/._img008-004.png  \n",
            "  inflating: project_data/content/project_data/__MACOSX/Training_data/num7/._img008-020.png  \n",
            "  inflating: project_data/content/project_data/__MACOSX/Training_data/num7/._img008-013.png  \n",
            "  inflating: project_data/content/project_data/__MACOSX/Training_data/num7/._img008-016.png  \n",
            "  inflating: project_data/content/project_data/__MACOSX/Training_data/num7/._img008-019.png  \n",
            "  inflating: project_data/content/project_data/__MACOSX/Training_data/num7/._img008-017.png  \n",
            "  inflating: project_data/content/project_data/__MACOSX/Training_data/num7/._img008-024.png  \n",
            "  inflating: project_data/content/project_data/__MACOSX/Training_data/num7/._img008-006.png  \n",
            "  inflating: project_data/content/project_data/__MACOSX/Training_data/num7/._img008-008.png  \n",
            "  inflating: project_data/content/project_data/__MACOSX/Training_data/num7/._img008-009.png  \n",
            "  inflating: project_data/content/project_data/__MACOSX/Training_data/num7/._img008-029.png  \n",
            "  inflating: project_data/content/project_data/__MACOSX/Training_data/num7/._img008-026.png  \n",
            "  inflating: project_data/content/project_data/__MACOSX/Training_data/num7/._img008-018.png  \n",
            "  inflating: project_data/content/project_data/__MACOSX/Training_data/num7/._img008-014.png  \n",
            "  inflating: project_data/content/project_data/__MACOSX/Training_data/num7/._img008-010.png  \n",
            "  inflating: project_data/content/project_data/__MACOSX/Training_data/num7/._img008-003.png  \n",
            "  inflating: project_data/content/project_data/__MACOSX/Training_data/num7/._img008-001.png  \n",
            "  inflating: project_data/content/project_data/__MACOSX/Training_data/num7/._img008-028.png  \n",
            "   creating: project_data/content/project_data/__MACOSX/Training_data/num1/\n",
            "  inflating: project_data/content/project_data/__MACOSX/Training_data/num1/._img002-005.png  \n",
            "  inflating: project_data/content/project_data/__MACOSX/Training_data/num1/._img002-027.png  \n",
            "  inflating: project_data/content/project_data/__MACOSX/Training_data/num1/._img002-010.png  \n",
            "  inflating: project_data/content/project_data/__MACOSX/Training_data/num1/._img002-023.png  \n",
            "  inflating: project_data/content/project_data/__MACOSX/Training_data/num1/._img002-006.png  \n",
            "  inflating: project_data/content/project_data/__MACOSX/Training_data/num1/._img002-020.png  \n",
            "  inflating: project_data/content/project_data/__MACOSX/Training_data/num1/._img002-018.png  \n",
            "  inflating: project_data/content/project_data/__MACOSX/Training_data/num1/._img002-025.png  \n",
            "  inflating: project_data/content/project_data/__MACOSX/Training_data/num1/._img002-013.png  \n",
            "  inflating: project_data/content/project_data/__MACOSX/Training_data/num1/._img002-017.png  \n",
            "  inflating: project_data/content/project_data/__MACOSX/Training_data/num1/._img002-008.png  \n",
            "  inflating: project_data/content/project_data/__MACOSX/Training_data/num1/._img002-003.png  \n",
            "  inflating: project_data/content/project_data/__MACOSX/Training_data/num1/._img002-012.png  \n",
            "  inflating: project_data/content/project_data/__MACOSX/Training_data/num1/._img002-014.png  \n",
            "  inflating: project_data/content/project_data/__MACOSX/Training_data/num1/._img002-009.png  \n",
            "  inflating: project_data/content/project_data/__MACOSX/Training_data/num1/._img002-021.png  \n",
            "  inflating: project_data/content/project_data/__MACOSX/Training_data/num1/._img002-001.png  \n",
            "  inflating: project_data/content/project_data/__MACOSX/Training_data/num1/._img002-024.png  \n",
            "  inflating: project_data/content/project_data/__MACOSX/Training_data/num1/._img002-015.png  \n",
            "  inflating: project_data/content/project_data/__MACOSX/Training_data/num1/._img002-026.png  \n",
            "  inflating: project_data/content/project_data/__MACOSX/Training_data/num1/._img002-002.png  \n",
            "  inflating: project_data/content/project_data/__MACOSX/Training_data/num1/._img002-019.png  \n",
            "  inflating: project_data/content/project_data/__MACOSX/Training_data/num1/._img002-022.png  \n",
            "  inflating: project_data/content/project_data/__MACOSX/Training_data/num1/._img002-029.png  \n",
            "  inflating: project_data/content/project_data/__MACOSX/Training_data/num1/._img002-004.png  \n",
            "  inflating: project_data/content/project_data/__MACOSX/Training_data/num1/._img002-016.png  \n",
            "  inflating: project_data/content/project_data/__MACOSX/Training_data/num1/._img002-030.png  \n",
            "  inflating: project_data/content/project_data/__MACOSX/Training_data/num1/._img002-028.png  \n",
            "  inflating: project_data/content/project_data/__MACOSX/Training_data/num1/._img002-011.png  \n",
            "  inflating: project_data/content/project_data/__MACOSX/Training_data/num1/._img002-007.png  \n",
            "  inflating: project_data/content/project_data/__MACOSX/Training_data/._.DS_Store  \n",
            "   creating: project_data/content/project_data/__MACOSX/Training_data/num0/\n",
            "  inflating: project_data/content/project_data/__MACOSX/Training_data/num0/._img001-020.png  \n",
            "  inflating: project_data/content/project_data/__MACOSX/Training_data/num0/._img001-028.png  \n",
            "  inflating: project_data/content/project_data/__MACOSX/Training_data/num0/._img001-019.png  \n",
            "  inflating: project_data/content/project_data/__MACOSX/Training_data/num0/._img001-003.png  \n",
            "  inflating: project_data/content/project_data/__MACOSX/Training_data/num0/._img001-018.png  \n",
            "  inflating: project_data/content/project_data/__MACOSX/Training_data/num0/._img001-013.png  \n",
            "  inflating: project_data/content/project_data/__MACOSX/Training_data/num0/._img001-021.png  \n",
            "  inflating: project_data/content/project_data/__MACOSX/Training_data/num0/._img001-016.png  \n",
            "  inflating: project_data/content/project_data/__MACOSX/Training_data/num0/._img001-011.png  \n",
            "  inflating: project_data/content/project_data/__MACOSX/Training_data/num0/._img001-008.png  \n",
            "  inflating: project_data/content/project_data/__MACOSX/Training_data/num0/._img001-004.png  \n",
            "  inflating: project_data/content/project_data/__MACOSX/Training_data/num0/._img001-030.png  \n",
            "  inflating: project_data/content/project_data/__MACOSX/Training_data/num0/._img001-026.png  \n",
            "  inflating: project_data/content/project_data/__MACOSX/Training_data/num0/._img001-017.png  \n",
            "  inflating: project_data/content/project_data/__MACOSX/Training_data/num0/._img001-012.png  \n",
            "  inflating: project_data/content/project_data/__MACOSX/Training_data/num0/._img001-007.png  \n",
            "  inflating: project_data/content/project_data/__MACOSX/Training_data/num0/._img001-005.png  \n",
            "  inflating: project_data/content/project_data/__MACOSX/Training_data/num0/._img001-029.png  \n",
            "  inflating: project_data/content/project_data/__MACOSX/Training_data/num0/._img001-009.png  \n",
            "  inflating: project_data/content/project_data/__MACOSX/Training_data/num0/._img001-024.png  \n",
            "  inflating: project_data/content/project_data/__MACOSX/Training_data/num0/._img001-023.png  \n",
            "  inflating: project_data/content/project_data/__MACOSX/Training_data/num0/._img001-027.png  \n",
            "  inflating: project_data/content/project_data/__MACOSX/Training_data/num0/._img001-010.png  \n",
            "  inflating: project_data/content/project_data/__MACOSX/Training_data/num0/._img001-025.png  \n",
            "  inflating: project_data/content/project_data/__MACOSX/Training_data/num0/._img001-002.png  \n",
            "  inflating: project_data/content/project_data/__MACOSX/Training_data/num0/._img001-014.png  \n",
            "  inflating: project_data/content/project_data/__MACOSX/Training_data/num0/._img001-022.png  \n",
            "  inflating: project_data/content/project_data/__MACOSX/Training_data/num0/._img001-001.png  \n",
            "  inflating: project_data/content/project_data/__MACOSX/Training_data/num0/._img001-006.png  \n",
            "  inflating: project_data/content/project_data/__MACOSX/Training_data/num0/._img001-015.png  \n",
            "   creating: project_data/content/project_data/__MACOSX/Training_data/num5/\n",
            "  inflating: project_data/content/project_data/__MACOSX/Training_data/num5/._img006-025.png  \n",
            "  inflating: project_data/content/project_data/__MACOSX/Training_data/num5/._img006-009.png  \n",
            "  inflating: project_data/content/project_data/__MACOSX/Training_data/num5/._img006-020.png  \n",
            "  inflating: project_data/content/project_data/__MACOSX/Training_data/num5/._img006-023.png  \n",
            "  inflating: project_data/content/project_data/__MACOSX/Training_data/num5/._img006-021.png  \n",
            "  inflating: project_data/content/project_data/__MACOSX/Training_data/num5/._img006-003.png  \n",
            "  inflating: project_data/content/project_data/__MACOSX/Training_data/num5/._img006-016.png  \n",
            "  inflating: project_data/content/project_data/__MACOSX/Training_data/num5/._img006-027.png  \n",
            "  inflating: project_data/content/project_data/__MACOSX/Training_data/num5/._img006-006.png  \n",
            "  inflating: project_data/content/project_data/__MACOSX/Training_data/num5/._img006-012.png  \n",
            "  inflating: project_data/content/project_data/__MACOSX/Training_data/num5/._img006-024.png  \n",
            "  inflating: project_data/content/project_data/__MACOSX/Training_data/num5/._img006-017.png  \n",
            "  inflating: project_data/content/project_data/__MACOSX/Training_data/num5/._img006-011.png  \n",
            "  inflating: project_data/content/project_data/__MACOSX/Training_data/num5/._img006-029.png  \n",
            "  inflating: project_data/content/project_data/__MACOSX/Training_data/num5/._img006-014.png  \n",
            "  inflating: project_data/content/project_data/__MACOSX/Training_data/num5/._img006-026.png  \n",
            "  inflating: project_data/content/project_data/__MACOSX/Training_data/num5/._img006-007.png  \n",
            "  inflating: project_data/content/project_data/__MACOSX/Training_data/num5/._img006-010.png  \n",
            "  inflating: project_data/content/project_data/__MACOSX/Training_data/num5/._img006-008.png  \n",
            "  inflating: project_data/content/project_data/__MACOSX/Training_data/num5/._img006-022.png  \n",
            "  inflating: project_data/content/project_data/__MACOSX/Training_data/num5/._img006-018.png  \n",
            "  inflating: project_data/content/project_data/__MACOSX/Training_data/num5/._img006-013.png  \n",
            "  inflating: project_data/content/project_data/__MACOSX/Training_data/num5/._img006-005.png  \n",
            "  inflating: project_data/content/project_data/__MACOSX/Training_data/num5/._img006-019.png  \n",
            "  inflating: project_data/content/project_data/__MACOSX/Training_data/num5/._img006-015.png  \n",
            "  inflating: project_data/content/project_data/__MACOSX/Training_data/num5/._img006-028.png  \n",
            "  inflating: project_data/content/project_data/__MACOSX/Training_data/num5/._img006-030.png  \n",
            "  inflating: project_data/content/project_data/__MACOSX/Training_data/num5/._img006-001.png  \n",
            "  inflating: project_data/content/project_data/__MACOSX/Training_data/num5/._img006-004.png  \n",
            "  inflating: project_data/content/project_data/__MACOSX/Training_data/num5/._img006-002.png  \n",
            "  inflating: project_data/content/project_data/labels.txt  \n",
            "   creating: project_data/content/project_data/Validation_data/\n",
            "   creating: project_data/content/project_data/Validation_data/num8/\n",
            "  inflating: project_data/content/project_data/Validation_data/num8/img009-031.png  \n",
            "  inflating: project_data/content/project_data/Validation_data/num8/img009-036.png  \n",
            "  inflating: project_data/content/project_data/Validation_data/num8/img009-037.png  \n",
            "  inflating: project_data/content/project_data/Validation_data/num8/img009-034.png  \n",
            "  inflating: project_data/content/project_data/Validation_data/num8/img009-040.png  \n",
            "  inflating: project_data/content/project_data/Validation_data/num8/img009-035.png  \n",
            "  inflating: project_data/content/project_data/Validation_data/num8/img009-032.png  \n",
            "  inflating: project_data/content/project_data/Validation_data/num8/img009-033.png  \n",
            "  inflating: project_data/content/project_data/Validation_data/num8/img009-038.png  \n",
            "  inflating: project_data/content/project_data/Validation_data/num8/img009-039.png  \n",
            "   creating: project_data/content/project_data/Validation_data/num2/\n",
            "  inflating: project_data/content/project_data/Validation_data/num2/img003-033.png  \n",
            "  inflating: project_data/content/project_data/Validation_data/num2/img003-040.png  \n",
            "  inflating: project_data/content/project_data/Validation_data/num2/img003-031.png  \n",
            "  inflating: project_data/content/project_data/Validation_data/num2/img003-039.png  \n",
            "  inflating: project_data/content/project_data/Validation_data/num2/img003-037.png  \n",
            "  inflating: project_data/content/project_data/Validation_data/num2/img003-038.png  \n",
            "  inflating: project_data/content/project_data/Validation_data/num2/img003-032.png  \n",
            "  inflating: project_data/content/project_data/Validation_data/num2/img003-036.png  \n",
            "  inflating: project_data/content/project_data/Validation_data/num2/img003-034.png  \n",
            "  inflating: project_data/content/project_data/Validation_data/num2/img003-035.png  \n",
            "   creating: project_data/content/project_data/Validation_data/num9/\n",
            "  inflating: project_data/content/project_data/Validation_data/num9/img010-037.png  \n",
            "  inflating: project_data/content/project_data/Validation_data/num9/img010-031.png  \n",
            "  inflating: project_data/content/project_data/Validation_data/num9/img010-036.png  \n",
            "  inflating: project_data/content/project_data/Validation_data/num9/img010-035.png  \n",
            "  inflating: project_data/content/project_data/Validation_data/num9/img010-034.png  \n",
            "  inflating: project_data/content/project_data/Validation_data/num9/img010-033.png  \n",
            "  inflating: project_data/content/project_data/Validation_data/num9/img010-040.png  \n",
            "  inflating: project_data/content/project_data/Validation_data/num9/img010-032.png  \n",
            "  inflating: project_data/content/project_data/Validation_data/num9/img010-039.png  \n",
            "  inflating: project_data/content/project_data/Validation_data/num9/img010-038.png  \n",
            "   creating: project_data/content/project_data/Validation_data/num3/\n",
            "  inflating: project_data/content/project_data/Validation_data/num3/img004-032.png  \n",
            "  inflating: project_data/content/project_data/Validation_data/num3/img004-039.png  \n",
            "  inflating: project_data/content/project_data/Validation_data/num3/img004-033.png  \n",
            "  inflating: project_data/content/project_data/Validation_data/num3/img004-034.png  \n",
            "  inflating: project_data/content/project_data/Validation_data/num3/img004-040.png  \n",
            "  inflating: project_data/content/project_data/Validation_data/num3/img004-037.png  \n",
            "  inflating: project_data/content/project_data/Validation_data/num3/img004-038.png  \n",
            "  inflating: project_data/content/project_data/Validation_data/num3/img004-031.png  \n",
            "  inflating: project_data/content/project_data/Validation_data/num3/img004-036.png  \n",
            "  inflating: project_data/content/project_data/Validation_data/num3/img004-035.png  \n",
            "  inflating: project_data/content/project_data/Validation_data/num3/.DS_Store  \n",
            "   creating: project_data/content/project_data/Validation_data/num4/\n",
            "  inflating: project_data/content/project_data/Validation_data/num4/img005-040.png  \n",
            "  inflating: project_data/content/project_data/Validation_data/num4/img005-032.png  \n",
            "  inflating: project_data/content/project_data/Validation_data/num4/img005-034.png  \n",
            "  inflating: project_data/content/project_data/Validation_data/num4/img005-039.png  \n",
            "  inflating: project_data/content/project_data/Validation_data/num4/img005-033.png  \n",
            "  inflating: project_data/content/project_data/Validation_data/num4/img005-037.png  \n",
            "  inflating: project_data/content/project_data/Validation_data/num4/img005-036.png  \n",
            "  inflating: project_data/content/project_data/Validation_data/num4/img005-031.png  \n",
            "  inflating: project_data/content/project_data/Validation_data/num4/img005-035.png  \n",
            "  inflating: project_data/content/project_data/Validation_data/num4/img005-038.png  \n",
            "   creating: project_data/content/project_data/Validation_data/num7/\n",
            "  inflating: project_data/content/project_data/Validation_data/num7/img008-039.png  \n",
            "  inflating: project_data/content/project_data/Validation_data/num7/img008-036.png  \n",
            "  inflating: project_data/content/project_data/Validation_data/num7/img008-037.png  \n",
            "  inflating: project_data/content/project_data/Validation_data/num7/img008-040.png  \n",
            "  inflating: project_data/content/project_data/Validation_data/num7/img008-035.png  \n",
            "  inflating: project_data/content/project_data/Validation_data/num7/img008-033.png  \n",
            "  inflating: project_data/content/project_data/Validation_data/num7/img008-032.png  \n",
            "  inflating: project_data/content/project_data/Validation_data/num7/img008-038.png  \n",
            "  inflating: project_data/content/project_data/Validation_data/num7/img008-031.png  \n",
            "  inflating: project_data/content/project_data/Validation_data/num7/img008-034.png  \n",
            "   creating: project_data/content/project_data/Validation_data/num1/\n",
            "  inflating: project_data/content/project_data/Validation_data/num1/img002-040.png  \n",
            "  inflating: project_data/content/project_data/Validation_data/num1/img002-037.png  \n",
            "  inflating: project_data/content/project_data/Validation_data/num1/img002-035.png  \n",
            "  inflating: project_data/content/project_data/Validation_data/num1/img002-039.png  \n",
            "  inflating: project_data/content/project_data/Validation_data/num1/img002-032.png  \n",
            "  inflating: project_data/content/project_data/Validation_data/num1/img002-038.png  \n",
            "  inflating: project_data/content/project_data/Validation_data/num1/img002-034.png  \n",
            "  inflating: project_data/content/project_data/Validation_data/num1/img002-033.png  \n",
            "  inflating: project_data/content/project_data/Validation_data/num1/img002-036.png  \n",
            "  inflating: project_data/content/project_data/Validation_data/num1/img002-031.png  \n",
            "   creating: project_data/content/project_data/Validation_data/num6/\n",
            "  inflating: project_data/content/project_data/Validation_data/num6/img007-037.png  \n",
            "  inflating: project_data/content/project_data/Validation_data/num6/img007-031.png  \n",
            "  inflating: project_data/content/project_data/Validation_data/num6/img007-036.png  \n",
            "  inflating: project_data/content/project_data/Validation_data/num6/img007-039.png  \n",
            "  inflating: project_data/content/project_data/Validation_data/num6/img007-040.png  \n",
            "  inflating: project_data/content/project_data/Validation_data/num6/img007-035.png  \n",
            "  inflating: project_data/content/project_data/Validation_data/num6/img007-038.png  \n",
            "  inflating: project_data/content/project_data/Validation_data/num6/img007-034.png  \n",
            "  inflating: project_data/content/project_data/Validation_data/num6/img007-032.png  \n",
            "  inflating: project_data/content/project_data/Validation_data/num6/img007-033.png  \n",
            "   creating: project_data/content/project_data/Validation_data/num0/\n",
            "  inflating: project_data/content/project_data/Validation_data/num0/img001-038.png  \n",
            "  inflating: project_data/content/project_data/Validation_data/num0/img001-037.png  \n",
            "  inflating: project_data/content/project_data/Validation_data/num0/img001-035.png  \n",
            "  inflating: project_data/content/project_data/Validation_data/num0/img001-031.png  \n",
            "  inflating: project_data/content/project_data/Validation_data/num0/img001-036.png  \n",
            "  inflating: project_data/content/project_data/Validation_data/num0/img001-034.png  \n",
            "  inflating: project_data/content/project_data/Validation_data/num0/img001-040.png  \n",
            "  inflating: project_data/content/project_data/Validation_data/num0/img001-039.png  \n",
            "  inflating: project_data/content/project_data/Validation_data/num0/img001-033.png  \n",
            "  inflating: project_data/content/project_data/Validation_data/num0/.DS_Store  \n",
            "  inflating: project_data/content/project_data/Validation_data/num0/img001-032.png  \n",
            "   creating: project_data/content/project_data/Validation_data/num5/\n",
            "  inflating: project_data/content/project_data/Validation_data/num5/img006-038.png  \n",
            "  inflating: project_data/content/project_data/Validation_data/num5/img006-037.png  \n",
            "  inflating: project_data/content/project_data/Validation_data/num5/img006-040.png  \n",
            "  inflating: project_data/content/project_data/Validation_data/num5/img006-039.png  \n",
            "  inflating: project_data/content/project_data/Validation_data/num5/img006-034.png  \n",
            "  inflating: project_data/content/project_data/Validation_data/num5/img006-033.png  \n",
            "  inflating: project_data/content/project_data/Validation_data/num5/img006-031.png  \n",
            "  inflating: project_data/content/project_data/Validation_data/num5/img006-032.png  \n",
            "  inflating: project_data/content/project_data/Validation_data/num5/img006-035.png  \n",
            "  inflating: project_data/content/project_data/Validation_data/num5/img006-036.png  \n",
            "  inflating: project_data/content/project_data/Validation_data/.DS_Store  \n",
            "   creating: project_data/content/project_data/Training_data/\n",
            "   creating: project_data/content/project_data/Training_data/num8/\n",
            "  inflating: project_data/content/project_data/Training_data/num8/img009-017.png  \n",
            "  inflating: project_data/content/project_data/Training_data/num8/img009-005.png  \n",
            "  inflating: project_data/content/project_data/Training_data/num8/img009-012.png  \n",
            "  inflating: project_data/content/project_data/Training_data/num8/img009-016.png  \n",
            "  inflating: project_data/content/project_data/Training_data/num8/img009-020.png  \n",
            "  inflating: project_data/content/project_data/Training_data/num8/img009-013.png  \n",
            "  inflating: project_data/content/project_data/Training_data/num8/img009-028.png  \n",
            "  inflating: project_data/content/project_data/Training_data/num8/img009-018.png  \n",
            "  inflating: project_data/content/project_data/Training_data/num8/img009-029.png  \n",
            "  inflating: project_data/content/project_data/Training_data/num8/img009-015.png  \n",
            "  inflating: project_data/content/project_data/Training_data/num8/img009-025.png  \n",
            "  inflating: project_data/content/project_data/Training_data/num8/img009-010.png  \n",
            "  inflating: project_data/content/project_data/Training_data/num8/img009-004.png  \n",
            "  inflating: project_data/content/project_data/Training_data/num8/img009-011.png  \n",
            "  inflating: project_data/content/project_data/Training_data/num8/img009-008.png  \n",
            "  inflating: project_data/content/project_data/Training_data/num8/img009-023.png  \n",
            "  inflating: project_data/content/project_data/Training_data/num8/img009-027.png  \n",
            "  inflating: project_data/content/project_data/Training_data/num8/img009-024.png  \n",
            "  inflating: project_data/content/project_data/Training_data/num8/img009-001.png  \n",
            "  inflating: project_data/content/project_data/Training_data/num8/img009-003.png  \n",
            "  inflating: project_data/content/project_data/Training_data/num8/img009-014.png  \n",
            "  inflating: project_data/content/project_data/Training_data/num8/img009-026.png  \n",
            "  inflating: project_data/content/project_data/Training_data/num8/img009-021.png  \n",
            "  inflating: project_data/content/project_data/Training_data/num8/img009-030.png  \n",
            "  inflating: project_data/content/project_data/Training_data/num8/img009-002.png  \n",
            "  inflating: project_data/content/project_data/Training_data/num8/img009-009.png  \n",
            "  inflating: project_data/content/project_data/Training_data/num8/img009-019.png  \n",
            "  inflating: project_data/content/project_data/Training_data/num8/img009-022.png  \n",
            "  inflating: project_data/content/project_data/Training_data/num8/img009-007.png  \n",
            "  inflating: project_data/content/project_data/Training_data/num8/img009-006.png  \n",
            "   creating: project_data/content/project_data/Training_data/num2/\n",
            "  inflating: project_data/content/project_data/Training_data/num2/img003-023.png  \n",
            "  inflating: project_data/content/project_data/Training_data/num2/img003-014.png  \n",
            "  inflating: project_data/content/project_data/Training_data/num2/img003-020.png  \n",
            "  inflating: project_data/content/project_data/Training_data/num2/img003-003.png  \n",
            "  inflating: project_data/content/project_data/Training_data/num2/img003-028.png  \n",
            "  inflating: project_data/content/project_data/Training_data/num2/img003-015.png  \n",
            "  inflating: project_data/content/project_data/Training_data/num2/img003-010.png  \n",
            "  inflating: project_data/content/project_data/Training_data/num2/img003-008.png  \n",
            "  inflating: project_data/content/project_data/Training_data/num2/img003-004.png  \n",
            "  inflating: project_data/content/project_data/Training_data/num2/img003-009.png  \n",
            "  inflating: project_data/content/project_data/Training_data/num2/img003-005.png  \n",
            "  inflating: project_data/content/project_data/Training_data/num2/img003-022.png  \n",
            "  inflating: project_data/content/project_data/Training_data/num2/img003-012.png  \n",
            "  inflating: project_data/content/project_data/Training_data/num2/img003-013.png  \n",
            "  inflating: project_data/content/project_data/Training_data/num2/img003-006.png  \n",
            "  inflating: project_data/content/project_data/Training_data/num2/img003-027.png  \n",
            "  inflating: project_data/content/project_data/Training_data/num2/img003-002.png  \n",
            "  inflating: project_data/content/project_data/Training_data/num2/img003-030.png  \n",
            "  inflating: project_data/content/project_data/Training_data/num2/img003-029.png  \n",
            "  inflating: project_data/content/project_data/Training_data/num2/img003-025.png  \n",
            "  inflating: project_data/content/project_data/Training_data/num2/img003-024.png  \n",
            "  inflating: project_data/content/project_data/Training_data/num2/img003-001.png  \n",
            "  inflating: project_data/content/project_data/Training_data/num2/img003-016.png  \n",
            "  inflating: project_data/content/project_data/Training_data/num2/img003-026.png  \n",
            "  inflating: project_data/content/project_data/Training_data/num2/img003-007.png  \n",
            "  inflating: project_data/content/project_data/Training_data/num2/img003-017.png  \n",
            "  inflating: project_data/content/project_data/Training_data/num2/img003-011.png  \n",
            "  inflating: project_data/content/project_data/Training_data/num2/img003-019.png  \n",
            "  inflating: project_data/content/project_data/Training_data/num2/img003-021.png  \n",
            "  inflating: project_data/content/project_data/Training_data/num2/img003-018.png  \n",
            "   creating: project_data/content/project_data/Training_data/num9/\n",
            "  inflating: project_data/content/project_data/Training_data/num9/img010-007.png  \n",
            "  inflating: project_data/content/project_data/Training_data/num9/img010-001.png  \n",
            "  inflating: project_data/content/project_data/Training_data/num9/img010-013.png  \n",
            "  inflating: project_data/content/project_data/Training_data/num9/img010-024.png  \n",
            "  inflating: project_data/content/project_data/Training_data/num9/img010-020.png  \n",
            "  inflating: project_data/content/project_data/Training_data/num9/img010-012.png  \n",
            "  inflating: project_data/content/project_data/Training_data/num9/img010-009.png  \n",
            "  inflating: project_data/content/project_data/Training_data/num9/img010-016.png  \n",
            "  inflating: project_data/content/project_data/Training_data/num9/img010-027.png  \n",
            "  inflating: project_data/content/project_data/Training_data/num9/img010-029.png  \n",
            "  inflating: project_data/content/project_data/Training_data/num9/img010-003.png  \n",
            "  inflating: project_data/content/project_data/Training_data/num9/img010-021.png  \n",
            "  inflating: project_data/content/project_data/Training_data/num9/img010-011.png  \n",
            "  inflating: project_data/content/project_data/Training_data/num9/img010-015.png  \n",
            "  inflating: project_data/content/project_data/Training_data/num9/img010-030.png  \n",
            "  inflating: project_data/content/project_data/Training_data/num9/img010-022.png  \n",
            "  inflating: project_data/content/project_data/Training_data/num9/img010-018.png  \n",
            "  inflating: project_data/content/project_data/Training_data/num9/img010-010.png  \n",
            "  inflating: project_data/content/project_data/Training_data/num9/img010-017.png  \n",
            "  inflating: project_data/content/project_data/Training_data/num9/img010-019.png  \n",
            "  inflating: project_data/content/project_data/Training_data/num9/img010-025.png  \n",
            "  inflating: project_data/content/project_data/Training_data/num9/img010-028.png  \n",
            "  inflating: project_data/content/project_data/Training_data/num9/img010-002.png  \n",
            "  inflating: project_data/content/project_data/Training_data/num9/img010-006.png  \n",
            "  inflating: project_data/content/project_data/Training_data/num9/img010-008.png  \n",
            "  inflating: project_data/content/project_data/Training_data/num9/img010-004.png  \n",
            "  inflating: project_data/content/project_data/Training_data/num9/img010-023.png  \n",
            "  inflating: project_data/content/project_data/Training_data/num9/img010-005.png  \n",
            "  inflating: project_data/content/project_data/Training_data/num9/img010-026.png  \n",
            "  inflating: project_data/content/project_data/Training_data/num9/img010-014.png  \n",
            "   creating: project_data/content/project_data/Training_data/num3/\n",
            "  inflating: project_data/content/project_data/Training_data/num3/img004-015.png  \n",
            "  inflating: project_data/content/project_data/Training_data/num3/img004-024.png  \n",
            "  inflating: project_data/content/project_data/Training_data/num3/img004-013.png  \n",
            "  inflating: project_data/content/project_data/Training_data/num3/img004-030.png  \n",
            "  inflating: project_data/content/project_data/Training_data/num3/img004-027.png  \n",
            "  inflating: project_data/content/project_data/Training_data/num3/img004-005.png  \n",
            "  inflating: project_data/content/project_data/Training_data/num3/img004-010.png  \n",
            "  inflating: project_data/content/project_data/Training_data/num3/img004-025.png  \n",
            "  inflating: project_data/content/project_data/Training_data/num3/img004-008.png  \n",
            "  inflating: project_data/content/project_data/Training_data/num3/img004-016.png  \n",
            "  inflating: project_data/content/project_data/Training_data/num3/img004-021.png  \n",
            "  inflating: project_data/content/project_data/Training_data/num3/img004-020.png  \n",
            "  inflating: project_data/content/project_data/Training_data/num3/img004-004.png  \n",
            "  inflating: project_data/content/project_data/Training_data/num3/img004-012.png  \n",
            "  inflating: project_data/content/project_data/Training_data/num3/img004-002.png  \n",
            "  inflating: project_data/content/project_data/Training_data/num3/img004-029.png  \n",
            "  inflating: project_data/content/project_data/Training_data/num3/img004-007.png  \n",
            "  inflating: project_data/content/project_data/Training_data/num3/img004-028.png  \n",
            "  inflating: project_data/content/project_data/Training_data/num3/img004-011.png  \n",
            "  inflating: project_data/content/project_data/Training_data/num3/img004-014.png  \n",
            "  inflating: project_data/content/project_data/Training_data/num3/img004-003.png  \n",
            "  inflating: project_data/content/project_data/Training_data/num3/img004-017.png  \n",
            "  inflating: project_data/content/project_data/Training_data/num3/img004-026.png  \n",
            "  inflating: project_data/content/project_data/Training_data/num3/img004-022.png  \n",
            "  inflating: project_data/content/project_data/Training_data/num3/img004-023.png  \n",
            "  inflating: project_data/content/project_data/Training_data/num3/img004-006.png  \n",
            "  inflating: project_data/content/project_data/Training_data/num3/img004-018.png  \n",
            "  inflating: project_data/content/project_data/Training_data/num3/img004-001.png  \n",
            "  inflating: project_data/content/project_data/Training_data/num3/.DS_Store  \n",
            "  inflating: project_data/content/project_data/Training_data/num3/img004-009.png  \n",
            "  inflating: project_data/content/project_data/Training_data/num3/img004-019.png  \n",
            "   creating: project_data/content/project_data/Training_data/num4/\n",
            "  inflating: project_data/content/project_data/Training_data/num4/img005-003.png  \n",
            "  inflating: project_data/content/project_data/Training_data/num4/img005-014.png  \n",
            "  inflating: project_data/content/project_data/Training_data/num4/img005-020.png  \n",
            "  inflating: project_data/content/project_data/Training_data/num4/img005-009.png  \n",
            "  inflating: project_data/content/project_data/Training_data/num4/img005-008.png  \n",
            "  inflating: project_data/content/project_data/Training_data/num4/img005-018.png  \n",
            "  inflating: project_data/content/project_data/Training_data/num4/img005-026.png  \n",
            "  inflating: project_data/content/project_data/Training_data/num4/img005-027.png  \n",
            "  inflating: project_data/content/project_data/Training_data/num4/img005-010.png  \n",
            "  inflating: project_data/content/project_data/Training_data/num4/img005-022.png  \n",
            "  inflating: project_data/content/project_data/Training_data/num4/img005-012.png  \n",
            "  inflating: project_data/content/project_data/Training_data/num4/img005-023.png  \n",
            "  inflating: project_data/content/project_data/Training_data/num4/img005-001.png  \n",
            "  inflating: project_data/content/project_data/Training_data/num4/img005-006.png  \n",
            "  inflating: project_data/content/project_data/Training_data/num4/img005-017.png  \n",
            "  inflating: project_data/content/project_data/Training_data/num4/img005-002.png  \n",
            "  inflating: project_data/content/project_data/Training_data/num4/img005-024.png  \n",
            "  inflating: project_data/content/project_data/Training_data/num4/img005-013.png  \n",
            "  inflating: project_data/content/project_data/Training_data/num4/img005-029.png  \n",
            "  inflating: project_data/content/project_data/Training_data/num4/img005-028.png  \n",
            "  inflating: project_data/content/project_data/Training_data/num4/img005-005.png  \n",
            "  inflating: project_data/content/project_data/Training_data/num4/img005-011.png  \n",
            "  inflating: project_data/content/project_data/Training_data/num4/img005-015.png  \n",
            "  inflating: project_data/content/project_data/Training_data/num4/img005-004.png  \n",
            "  inflating: project_data/content/project_data/Training_data/num4/img005-007.png  \n",
            "  inflating: project_data/content/project_data/Training_data/num4/img005-025.png  \n",
            "  inflating: project_data/content/project_data/Training_data/num4/img005-016.png  \n",
            "  inflating: project_data/content/project_data/Training_data/num4/img005-030.png  \n",
            "  inflating: project_data/content/project_data/Training_data/num4/img005-019.png  \n",
            "  inflating: project_data/content/project_data/Training_data/num4/img005-021.png  \n",
            "   creating: project_data/content/project_data/Training_data/num7/\n",
            "  inflating: project_data/content/project_data/Training_data/num7/img008-008.png  \n",
            "  inflating: project_data/content/project_data/Training_data/num7/img008-015.png  \n",
            "  inflating: project_data/content/project_data/Training_data/num7/img008-009.png  \n",
            "  inflating: project_data/content/project_data/Training_data/num7/img008-017.png  \n",
            "  inflating: project_data/content/project_data/Training_data/num7/img008-016.png  \n",
            "  inflating: project_data/content/project_data/Training_data/num7/img008-029.png  \n",
            "  inflating: project_data/content/project_data/Training_data/num7/img008-022.png  \n",
            "  inflating: project_data/content/project_data/Training_data/num7/img008-018.png  \n",
            "  inflating: project_data/content/project_data/Training_data/num7/img008-030.png  \n",
            "  inflating: project_data/content/project_data/Training_data/num7/img008-014.png  \n",
            "  inflating: project_data/content/project_data/Training_data/num7/img008-025.png  \n",
            "  inflating: project_data/content/project_data/Training_data/num7/img008-012.png  \n",
            "  inflating: project_data/content/project_data/Training_data/num7/img008-003.png  \n",
            "  inflating: project_data/content/project_data/Training_data/num7/img008-004.png  \n",
            "  inflating: project_data/content/project_data/Training_data/num7/img008-024.png  \n",
            "  inflating: project_data/content/project_data/Training_data/num7/img008-007.png  \n",
            "  inflating: project_data/content/project_data/Training_data/num7/img008-013.png  \n",
            "  inflating: project_data/content/project_data/Training_data/num7/img008-001.png  \n",
            "  inflating: project_data/content/project_data/Training_data/num7/img008-006.png  \n",
            "  inflating: project_data/content/project_data/Training_data/num7/img008-028.png  \n",
            "  inflating: project_data/content/project_data/Training_data/num7/img008-026.png  \n",
            "  inflating: project_data/content/project_data/Training_data/num7/img008-002.png  \n",
            "  inflating: project_data/content/project_data/Training_data/num7/img008-023.png  \n",
            "  inflating: project_data/content/project_data/Training_data/num7/img008-011.png  \n",
            "  inflating: project_data/content/project_data/Training_data/num7/img008-010.png  \n",
            "  inflating: project_data/content/project_data/Training_data/num7/img008-027.png  \n",
            "  inflating: project_data/content/project_data/Training_data/num7/img008-005.png  \n",
            "  inflating: project_data/content/project_data/Training_data/num7/img008-020.png  \n",
            "  inflating: project_data/content/project_data/Training_data/num7/img008-021.png  \n",
            "  inflating: project_data/content/project_data/Training_data/num7/img008-019.png  \n",
            "   creating: project_data/content/project_data/Training_data/untitled folder/\n",
            "   creating: project_data/content/project_data/Training_data/num1/\n",
            "  inflating: project_data/content/project_data/Training_data/num1/img002-006.png  \n",
            "  inflating: project_data/content/project_data/Training_data/num1/img002-013.png  \n",
            "  inflating: project_data/content/project_data/Training_data/num1/img002-003.png  \n",
            "  inflating: project_data/content/project_data/Training_data/num1/img002-005.png  \n",
            "  inflating: project_data/content/project_data/Training_data/num1/img002-026.png  \n",
            "  inflating: project_data/content/project_data/Training_data/num1/img002-001.png  \n",
            "  inflating: project_data/content/project_data/Training_data/num1/img002-014.png  \n",
            "  inflating: project_data/content/project_data/Training_data/num1/img002-015.png  \n",
            "  inflating: project_data/content/project_data/Training_data/num1/img002-027.png  \n",
            "  inflating: project_data/content/project_data/Training_data/num1/img002-028.png  \n",
            "  inflating: project_data/content/project_data/Training_data/num1/img002-004.png  \n",
            "  inflating: project_data/content/project_data/Training_data/num1/img002-016.png  \n",
            "  inflating: project_data/content/project_data/Training_data/num1/img002-002.png  \n",
            "  inflating: project_data/content/project_data/Training_data/num1/img002-019.png  \n",
            "  inflating: project_data/content/project_data/Training_data/num1/img002-018.png  \n",
            "  inflating: project_data/content/project_data/Training_data/num1/img002-025.png  \n",
            "  inflating: project_data/content/project_data/Training_data/num1/img002-009.png  \n",
            "  inflating: project_data/content/project_data/Training_data/num1/img002-022.png  \n",
            "  inflating: project_data/content/project_data/Training_data/num1/img002-017.png  \n",
            "  inflating: project_data/content/project_data/Training_data/num1/img002-010.png  \n",
            "  inflating: project_data/content/project_data/Training_data/num1/img002-012.png  \n",
            "  inflating: project_data/content/project_data/Training_data/num1/img002-030.png  \n",
            "  inflating: project_data/content/project_data/Training_data/num1/img002-008.png  \n",
            "  inflating: project_data/content/project_data/Training_data/num1/img002-023.png  \n",
            "  inflating: project_data/content/project_data/Training_data/num1/img002-011.png  \n",
            "  inflating: project_data/content/project_data/Training_data/num1/img002-029.png  \n",
            "  inflating: project_data/content/project_data/Training_data/num1/img002-020.png  \n",
            "  inflating: project_data/content/project_data/Training_data/num1/img002-024.png  \n",
            "  inflating: project_data/content/project_data/Training_data/num1/img002-007.png  \n",
            "  inflating: project_data/content/project_data/Training_data/num1/img002-021.png  \n",
            "   creating: project_data/content/project_data/Training_data/num6/\n",
            "   creating: project_data/content/project_data/Training_data/num0/\n",
            "  inflating: project_data/content/project_data/Training_data/num0/img001-013.png  \n",
            "  inflating: project_data/content/project_data/Training_data/num0/img001-009.png  \n",
            "  inflating: project_data/content/project_data/Training_data/num0/img001-005.png  \n",
            "  inflating: project_data/content/project_data/Training_data/num0/img001-006.png  \n",
            "  inflating: project_data/content/project_data/Training_data/num0/img001-023.png  \n",
            "  inflating: project_data/content/project_data/Training_data/num0/img001-022.png  \n",
            "  inflating: project_data/content/project_data/Training_data/num0/img001-004.png  \n",
            "  inflating: project_data/content/project_data/Training_data/num0/img001-014.png  \n",
            "  inflating: project_data/content/project_data/Training_data/num0/img001-001.png  \n",
            "  inflating: project_data/content/project_data/Training_data/num0/img001-010.png  \n",
            "  inflating: project_data/content/project_data/Training_data/num0/img001-030.png  \n",
            "  inflating: project_data/content/project_data/Training_data/num0/img001-015.png  \n",
            "  inflating: project_data/content/project_data/Training_data/num0/img001-027.png  \n",
            "  inflating: project_data/content/project_data/Training_data/num0/img001-008.png  \n",
            "  inflating: project_data/content/project_data/Training_data/num0/img001-012.png  \n",
            "  inflating: project_data/content/project_data/Training_data/num0/img001-011.png  \n",
            "  inflating: project_data/content/project_data/Training_data/num0/img001-025.png  \n",
            "  inflating: project_data/content/project_data/Training_data/num0/img001-019.png  \n",
            "  inflating: project_data/content/project_data/Training_data/num0/img001-007.png  \n",
            "  inflating: project_data/content/project_data/Training_data/num0/img001-026.png  \n",
            "  inflating: project_data/content/project_data/Training_data/num0/img001-002.png  \n",
            "  inflating: project_data/content/project_data/Training_data/num0/img001-020.png  \n",
            "  inflating: project_data/content/project_data/Training_data/num0/img001-018.png  \n",
            "  inflating: project_data/content/project_data/Training_data/num0/img001-003.png  \n",
            "  inflating: project_data/content/project_data/Training_data/num0/img001-016.png  \n",
            "  inflating: project_data/content/project_data/Training_data/num0/img001-017.png  \n",
            "  inflating: project_data/content/project_data/Training_data/num0/img001-029.png  \n",
            "  inflating: project_data/content/project_data/Training_data/num0/img001-021.png  \n",
            "  inflating: project_data/content/project_data/Training_data/num0/img001-024.png  \n",
            "  inflating: project_data/content/project_data/Training_data/num0/img001-028.png  \n",
            "   creating: project_data/content/project_data/Training_data/num5/\n",
            "  inflating: project_data/content/project_data/Training_data/num5/img006-005.png  \n",
            "  inflating: project_data/content/project_data/Training_data/num5/img006-025.png  \n",
            "  inflating: project_data/content/project_data/Training_data/num5/img006-008.png  \n",
            "  inflating: project_data/content/project_data/Training_data/num5/img006-011.png  \n",
            "  inflating: project_data/content/project_data/Training_data/num5/img006-013.png  \n",
            "  inflating: project_data/content/project_data/Training_data/num5/img006-006.png  \n",
            "  inflating: project_data/content/project_data/Training_data/num5/img006-022.png  \n",
            "  inflating: project_data/content/project_data/Training_data/num5/img006-003.png  \n",
            "  inflating: project_data/content/project_data/Training_data/num5/img006-030.png  \n",
            "  inflating: project_data/content/project_data/Training_data/num5/img006-010.png  \n",
            "  inflating: project_data/content/project_data/Training_data/num5/img006-024.png  \n",
            "  inflating: project_data/content/project_data/Training_data/num5/img006-023.png  \n",
            "  inflating: project_data/content/project_data/Training_data/num5/img006-029.png  \n",
            "  inflating: project_data/content/project_data/Training_data/num5/img006-021.png  \n",
            "  inflating: project_data/content/project_data/Training_data/num5/img006-009.png  \n",
            "  inflating: project_data/content/project_data/Training_data/num5/img006-014.png  \n",
            "  inflating: project_data/content/project_data/Training_data/num5/img006-028.png  \n",
            "  inflating: project_data/content/project_data/Training_data/num5/img006-007.png  \n",
            "  inflating: project_data/content/project_data/Training_data/num5/img006-017.png  \n",
            "  inflating: project_data/content/project_data/Training_data/num5/img006-027.png  \n",
            "  inflating: project_data/content/project_data/Training_data/num5/img006-002.png  \n",
            "  inflating: project_data/content/project_data/Training_data/num5/img006-016.png  \n",
            "  inflating: project_data/content/project_data/Training_data/num5/img006-004.png  \n",
            "  inflating: project_data/content/project_data/Training_data/num5/img006-020.png  \n",
            "  inflating: project_data/content/project_data/Training_data/num5/img006-015.png  \n",
            "  inflating: project_data/content/project_data/Training_data/num5/img006-018.png  \n",
            "  inflating: project_data/content/project_data/Training_data/num5/img006-019.png  \n",
            "  inflating: project_data/content/project_data/Training_data/num5/img006-001.png  \n",
            "  inflating: project_data/content/project_data/Training_data/num5/img006-026.png  \n",
            "  inflating: project_data/content/project_data/Training_data/num5/img006-012.png  \n",
            "  inflating: project_data/content/project_data/Training_data/.DS_Store  \n",
            "   creating: project_data/content/project_data/Test_set/\n",
            "  inflating: project_data/content/project_data/Test_set/num9_test10.png  \n",
            "  inflating: project_data/content/project_data/Test_set/num3_test4.png  \n",
            "  inflating: project_data/content/project_data/Test_set/num7_test8.png  \n",
            "  inflating: project_data/content/project_data/Test_set/num5_test6.png  \n",
            "  inflating: project_data/content/project_data/Test_set/num1_test2.png  \n",
            "  inflating: project_data/content/project_data/Test_set/num4_test5.png  \n",
            "  inflating: project_data/content/project_data/Test_set/num8_test9.png  \n",
            "  inflating: project_data/content/project_data/Test_set/num2_test3.png  \n",
            "  inflating: project_data/content/project_data/Test_set/num0_test1.png  \n",
            "  inflating: project_data/content/project_data/Test_set/num6_test7.png  \n"
          ]
        }
      ]
    },
    {
      "cell_type": "code",
      "source": [
        "# Importing Required libs."
      ],
      "metadata": {
        "id": "eSSFExJSlbJ5"
      },
      "execution_count": null,
      "outputs": []
    },
    {
      "cell_type": "code",
      "source": [
        "import numpy as np\n",
        "import pandas as pd\n",
        "import cv2\n",
        "import matplotlib.pyplot as plt\n"
      ],
      "metadata": {
        "id": "yUQ65MXEuKin"
      },
      "execution_count": 3,
      "outputs": []
    },
    {
      "cell_type": "code",
      "source": [
        "# loading trained model\n",
        "model = tf.keras.models.load_model(\"/content/project_data/content/project_data/keras_model.h5\")"
      ],
      "metadata": {
        "colab": {
          "base_uri": "https://localhost:8080/"
        },
        "id": "mBMQEjY2Pxbl",
        "outputId": "6f4da5b8-d105-4ef7-9903-a4162644b46e"
      },
      "execution_count": 4,
      "outputs": [
        {
          "output_type": "stream",
          "name": "stderr",
          "text": [
            "WARNING:tensorflow:No training configuration found in the save file, so the model was *not* compiled. Compile it manually.\n"
          ]
        }
      ]
    },
    {
      "cell_type": "code",
      "source": [
        "# dictionary to map class names to integer labels\n",
        "mycls = {'class_0': 1, 'class_1': 2, 'class_2': 3,\n",
        "         'class_3': 4, 'class_4': 5, 'class_5': 6,\n",
        "         'class_6': 7, 'class_7': 8, 'class_8': 9,\n",
        "         'class_9': 0}\n"
      ],
      "metadata": {
        "id": "H9QbkO2nVJpz"
      },
      "execution_count": 5,
      "outputs": []
    },
    {
      "cell_type": "code",
      "source": [
        "list(mycls)"
      ],
      "metadata": {
        "colab": {
          "base_uri": "https://localhost:8080/"
        },
        "id": "6PcjJ7ajVLLi",
        "outputId": "d4beaa6e-e9ec-4dc3-c2d1-27f18d7f5408"
      },
      "execution_count": 6,
      "outputs": [
        {
          "output_type": "execute_result",
          "data": {
            "text/plain": [
              "['class_0',\n",
              " 'class_1',\n",
              " 'class_2',\n",
              " 'class_3',\n",
              " 'class_4',\n",
              " 'class_5',\n",
              " 'class_6',\n",
              " 'class_7',\n",
              " 'class_8',\n",
              " 'class_9']"
            ]
          },
          "metadata": {},
          "execution_count": 6
        }
      ]
    },
    {
      "cell_type": "code",
      "source": [
        "### prediction function\n",
        "def pred(img):\n",
        "    x = cv2.imread(img)\n",
        "    x = cv2.cvtColor(x,cv2.COLOR_BGR2RGB)\n",
        "    x = cv2.resize(x,(224,224))\n",
        "    x = x/255.0\n",
        "    x = np.expand_dims(x,0)\n",
        "    result = model.predict(x)\n",
        "    idx = np.argmax(result)\n",
        "    cls = mycls[list(mycls)[idx]]\n",
        "    return {\"result\":f\"Digit: {cls}\"}\n",
        "\n"
      ],
      "metadata": {
        "id": "F4AntyAHQEUJ"
      },
      "execution_count": 7,
      "outputs": []
    },
    {
      "cell_type": "code",
      "source": [
        "pred(\"/content/project_data/content/project_data/Training_data/num1/img002-001.png\")"
      ],
      "metadata": {
        "colab": {
          "base_uri": "https://localhost:8080/"
        },
        "id": "k2_tJI9HR0_7",
        "outputId": "ce23267d-b91e-4440-94b7-e3e7f1712964"
      },
      "execution_count": 9,
      "outputs": [
        {
          "output_type": "stream",
          "name": "stdout",
          "text": [
            "1/1 [==============================] - 2s 2s/step\n"
          ]
        },
        {
          "output_type": "execute_result",
          "data": {
            "text/plain": [
              "{'result': 'Digit: 1'}"
            ]
          },
          "metadata": {},
          "execution_count": 9
        }
      ]
    },
    {
      "cell_type": "code",
      "source": [
        "### Validation prep"
      ],
      "metadata": {
        "id": "gR6crIsOTVJu"
      },
      "execution_count": 10,
      "outputs": []
    },
    {
      "cell_type": "code",
      "source": [
        "# preprocessing of image\n",
        "\"\"\"\n",
        "1.read image in RGB\n",
        "2.change dimension\n",
        "3.rescaling\n",
        "\"\"\"\n",
        "def prepro(img_path):\n",
        "    x = cv2.imread(img_path)\n",
        "    x = cv2.cvtColor(x,cv2.COLOR_BGR2RGB)\n",
        "    x = cv2.resize(x,(224,224))\n",
        "    x = x/255.0\n",
        "    return x\n"
      ],
      "metadata": {
        "id": "F_YMeVqmWKUW"
      },
      "execution_count": 11,
      "outputs": []
    },
    {
      "cell_type": "code",
      "source": [
        "!rm -rdf '/content/project_data/content/project_data/Validation_data/.DS_Store'"
      ],
      "metadata": {
        "id": "mN9XSgUSl3aU"
      },
      "execution_count": 14,
      "outputs": []
    },
    {
      "cell_type": "code",
      "source": [
        "# Creating x_test, y_test from validation data.\n",
        "# Creating Dataset dict. later we will use this for image generation\n",
        "\n",
        "import os\n",
        "\n",
        "dataset = {\"image_path\":[], \"cls_name\":[]}\n",
        "x_test = []\n",
        "y_test = []\n",
        "\n",
        "path = \"/content/project_data/content/project_data/Validation_data\"\n",
        "for i in os.listdir(path):\n",
        "    folder_path = os.path.join(path,i)\n",
        "    for myimg in os.listdir(os.path.join(path,folder_path)):\n",
        "        if myimg.startswith(\".\"):\n",
        "            pass\n",
        "        else:\n",
        "            img_path = os.path.join(path,folder_path, myimg)\n",
        "            # print(img_path)\n",
        "            arr_img = prepro(img_path)\n",
        "            x_test.append(arr_img)\n",
        "            org_cls_name = list(i)[-1]\n",
        "            y_test.append(int(org_cls_name))\n",
        "            dataset[\"image_path\"].append(img_path)\n",
        "            dataset[\"cls_name\"].append(int(org_cls_name))"
      ],
      "metadata": {
        "id": "A_P3-5rLSE-x"
      },
      "execution_count": 48,
      "outputs": []
    },
    {
      "cell_type": "code",
      "source": [
        "# list to array conversion\n",
        "\n",
        "x_test = np.array(x_test)\n",
        "y_test = np.array(y_test)"
      ],
      "metadata": {
        "id": "o79Ixv-eZ07q"
      },
      "execution_count": 50,
      "outputs": []
    },
    {
      "cell_type": "code",
      "source": [
        "x_test.shape,y_test.shape"
      ],
      "metadata": {
        "colab": {
          "base_uri": "https://localhost:8080/"
        },
        "id": "nN2qSeI4Z8ab",
        "outputId": "b83d567e-14ca-443c-a1b7-097dd08b7097"
      },
      "execution_count": 51,
      "outputs": [
        {
          "output_type": "execute_result",
          "data": {
            "text/plain": [
              "((100, 224, 224, 3), (100,))"
            ]
          },
          "metadata": {},
          "execution_count": 51
        }
      ]
    },
    {
      "cell_type": "code",
      "source": [
        "# plotting images\n",
        "plt.imshow(x_test[0])\n",
        "print(y_test[0])"
      ],
      "metadata": {
        "colab": {
          "base_uri": "https://localhost:8080/",
          "height": 451
        },
        "id": "cxqvCVItmBs0",
        "outputId": "80628d17-631b-46cb-a0c4-23fe0d4f497e"
      },
      "execution_count": 52,
      "outputs": [
        {
          "output_type": "stream",
          "name": "stdout",
          "text": [
            "8\n"
          ]
        },
        {
          "output_type": "display_data",
          "data": {
            "text/plain": [
              "<Figure size 640x480 with 1 Axes>"
            ],
            "image/png": "[encoded data removed]"
          },
          "metadata": {}
        }
      ]
    },
    {
      "cell_type": "code",
      "source": [
        "x_result = model.predict(x_test)"
      ],
      "metadata": {
        "colab": {
          "base_uri": "https://localhost:8080/"
        },
        "id": "ELvhcAGHme5S",
        "outputId": "bdc282af-f566-4b2e-a3ad-6c3f9073a22b"
      },
      "execution_count": 19,
      "outputs": [
        {
          "output_type": "stream",
          "name": "stdout",
          "text": [
            "4/4 [==============================] - 3s 563ms/step\n"
          ]
        }
      ]
    },
    {
      "cell_type": "code",
      "source": [
        "x_result.shape"
      ],
      "metadata": {
        "colab": {
          "base_uri": "https://localhost:8080/"
        },
        "id": "6c4Qkw2waHZS",
        "outputId": "37ec5733-cf05-4662-ba37-db02d608dea9"
      },
      "execution_count": 20,
      "outputs": [
        {
          "output_type": "execute_result",
          "data": {
            "text/plain": [
              "(100, 10)"
            ]
          },
          "metadata": {},
          "execution_count": 20
        }
      ]
    },
    {
      "cell_type": "code",
      "source": [
        "raw_preds = np.argmax(x_result,1)"
      ],
      "metadata": {
        "id": "-4Zi0ha9qonr"
      },
      "execution_count": 21,
      "outputs": []
    },
    {
      "cell_type": "code",
      "source": [
        "np.argmax(x_result[-1])"
      ],
      "metadata": {
        "colab": {
          "base_uri": "https://localhost:8080/"
        },
        "id": "Y60UlvQWq_xp",
        "outputId": "5699e1ea-2650-40d5-f3c9-7a9e7346bca8"
      },
      "execution_count": 22,
      "outputs": [
        {
          "output_type": "execute_result",
          "data": {
            "text/plain": [
              "4"
            ]
          },
          "metadata": {},
          "execution_count": 22
        }
      ]
    },
    {
      "cell_type": "code",
      "source": [
        "preds = [ mycls[list(mycls)[i]]  for i  in raw_preds]"
      ],
      "metadata": {
        "id": "5cULitAZusXT"
      },
      "execution_count": 23,
      "outputs": []
    },
    {
      "cell_type": "code",
      "source": [
        "print(preds)"
      ],
      "metadata": {
        "colab": {
          "base_uri": "https://localhost:8080/"
        },
        "id": "3LoQJb0crOza",
        "outputId": "2941bacc-4257-42c8-e938-d94790971714"
      },
      "execution_count": 24,
      "outputs": [
        {
          "output_type": "stream",
          "name": "stdout",
          "text": [
            "[3, 3, 8, 8, 8, 3, 3, 3, 8, 8, 3, 2, 2, 2, 2, 2, 3, 2, 2, 2, 9, 9, 7, 9, 9, 9, 9, 9, 9, 9, 3, 3, 3, 3, 3, 3, 3, 3, 3, 3, 4, 4, 4, 4, 4, 4, 4, 4, 4, 4, 7, 7, 7, 7, 7, 7, 7, 7, 7, 7, 1, 1, 1, 1, 1, 1, 2, 1, 1, 1, 6, 6, 2, 6, 6, 6, 3, 6, 6, 6, 0, 0, 0, 0, 0, 0, 0, 0, 0, 0, 3, 3, 5, 3, 3, 3, 5, 3, 5, 5]\n"
          ]
        }
      ]
    },
    {
      "cell_type": "code",
      "source": [
        "from sklearn.metrics import accuracy_score"
      ],
      "metadata": {
        "id": "vMZ6ygrmrZWl"
      },
      "execution_count": 25,
      "outputs": []
    },
    {
      "cell_type": "code",
      "source": [
        "accuracy_score(preds, y_test)"
      ],
      "metadata": {
        "colab": {
          "base_uri": "https://localhost:8080/"
        },
        "id": "kYkyrZXpaRKF",
        "outputId": "cd2d81ae-8d3a-4012-8dde-0694bf09b09e"
      },
      "execution_count": 26,
      "outputs": [
        {
          "output_type": "execute_result",
          "data": {
            "text/plain": [
              "0.83"
            ]
          },
          "metadata": {},
          "execution_count": 26
        }
      ]
    },
    {
      "cell_type": "markdown",
      "source": [
        "## Validation Accuracy 83%"
      ],
      "metadata": {
        "id": "8Yzy4Lz0s61X"
      }
    },
    {
      "cell_type": "code",
      "source": [
        "### Test Set"
      ],
      "metadata": {
        "id": "jyh8_ajxvDbI"
      },
      "execution_count": null,
      "outputs": []
    },
    {
      "cell_type": "code",
      "source": [
        "test_result = []\n",
        "\n",
        "test_set_path = \"/content/project_data/content/project_data/Test_set\"\n",
        "for i in os.listdir(test_set_path):\n",
        "    img_path = os.path.join(test_set_path,i)\n",
        "    x = prepro(img_path)\n",
        "    x = np.expand_dims(x,0)\n",
        "    result = model.predict(x)\n",
        "    idx = np.argmax(result)\n",
        "    cls = mycls[list(mycls)[idx]]\n",
        "    test_result.append([i.split(\"_\")[0],cls])\n",
        "    # print(cls, i.split(\"_\")[0])\n",
        "\n"
      ],
      "metadata": {
        "colab": {
          "base_uri": "https://localhost:8080/"
        },
        "id": "5MgY9_fKvaco",
        "outputId": "da9c6441-4da4-4008-fd04-8473c1f482b5"
      },
      "execution_count": 27,
      "outputs": [
        {
          "output_type": "stream",
          "name": "stdout",
          "text": [
            "1/1 [==============================] - 0s 118ms/step\n",
            "1/1 [==============================] - 0s 158ms/step\n",
            "1/1 [==============================] - 0s 136ms/step\n",
            "1/1 [==============================] - 0s 94ms/step\n",
            "1/1 [==============================] - 0s 104ms/step\n",
            "1/1 [==============================] - 0s 104ms/step\n",
            "1/1 [==============================] - 0s 113ms/step\n",
            "1/1 [==============================] - 0s 146ms/step\n",
            "1/1 [==============================] - 0s 103ms/step\n",
            "1/1 [==============================] - 0s 91ms/step\n"
          ]
        }
      ]
    },
    {
      "cell_type": "code",
      "source": [
        "import pandas as pd"
      ],
      "metadata": {
        "id": "1uBjnBSkwA-p"
      },
      "execution_count": 28,
      "outputs": []
    },
    {
      "cell_type": "code",
      "source": [
        "pd.DataFrame(test_result, columns= [\"name\",\"prediction\"])"
      ],
      "metadata": {
        "colab": {
          "base_uri": "https://localhost:8080/",
          "height": 363
        },
        "id": "XXa3MC4gxXDp",
        "outputId": "e8c90283-e015-4846-a3c5-fb83f535bca7"
      },
      "execution_count": 29,
      "outputs": [
        {
          "output_type": "execute_result",
          "data": {
            "text/plain": [
              "   name  prediction\n",
              "0  num9           0\n",
              "1  num3           6\n",
              "2  num7           7\n",
              "3  num5           6\n",
              "4  num1           1\n",
              "5  num4           1\n",
              "6  num8           8\n",
              "7  num2           6\n",
              "8  num0           0\n",
              "9  num6           6"
            ],
            "text/html": [
              "\n",
              "  <div id=\"df-a372dba3-f1c2-4568-b619-8c55583d2d96\" class=\"colab-df-container\">\n",
              "    <div>\n",
              "<style scoped>\n",
              "    .dataframe tbody tr th:only-of-type {\n",
              "        vertical-align: middle;\n",
              "    }\n",
              "\n",
              "    .dataframe tbody tr th {\n",
              "        vertical-align: top;\n",
              "    }\n",
              "\n",
              "    .dataframe thead th {\n",
              "        text-align: right;\n",
              "    }\n",
              "</style>\n",
              "<table border=\"1\" class=\"dataframe\">\n",
              "  <thead>\n",
              "    <tr style=\"text-align: right;\">\n",
              "      <th></th>\n",
              "      <th>name</th>\n",
              "      <th>prediction</th>\n",
              "    </tr>\n",
              "  </thead>\n",
              "  <tbody>\n",
              "    <tr>\n",
              "      <th>0</th>\n",
              "      <td>num9</td>\n",
              "      <td>0</td>\n",
              "    </tr>\n",
              "    <tr>\n",
              "      <th>1</th>\n",
              "      <td>num3</td>\n",
              "      <td>6</td>\n",
              "    </tr>\n",
              "    <tr>\n",
              "      <th>2</th>\n",
              "      <td>num7</td>\n",
              "      <td>7</td>\n",
              "    </tr>\n",
              "    <tr>\n",
              "      <th>3</th>\n",
              "      <td>num5</td>\n",
              "      <td>6</td>\n",
              "    </tr>\n",
              "    <tr>\n",
              "      <th>4</th>\n",
              "      <td>num1</td>\n",
              "      <td>1</td>\n",
              "    </tr>\n",
              "    <tr>\n",
              "      <th>5</th>\n",
              "      <td>num4</td>\n",
              "      <td>1</td>\n",
              "    </tr>\n",
              "    <tr>\n",
              "      <th>6</th>\n",
              "      <td>num8</td>\n",
              "      <td>8</td>\n",
              "    </tr>\n",
              "    <tr>\n",
              "      <th>7</th>\n",
              "      <td>num2</td>\n",
              "      <td>6</td>\n",
              "    </tr>\n",
              "    <tr>\n",
              "      <th>8</th>\n",
              "      <td>num0</td>\n",
              "      <td>0</td>\n",
              "    </tr>\n",
              "    <tr>\n",
              "      <th>9</th>\n",
              "      <td>num6</td>\n",
              "      <td>6</td>\n",
              "    </tr>\n",
              "  </tbody>\n",
              "</table>\n",
              "</div>\n",
              "    <div class=\"colab-df-buttons\">\n",
              "\n",
              "  <div class=\"colab-df-container\">\n",
              "    <button class=\"colab-df-convert\" onclick=\"convertToInteractive('df-a372dba3-f1c2-4568-b619-8c55583d2d96')\"\n",
              "            title=\"Convert this dataframe to an interactive table.\"\n",
              "            style=\"display:none;\">\n",
              "\n",
              "  <svg xmlns=\"http://www.w3.org/2000/svg\" height=\"24px\" viewBox=\"0 -960 960 960\">\n",
              "    <path d=\"M120-120v-720h720v720H120Zm60-500h600v-160H180v160Zm220 220h160v-160H400v160Zm0 220h160v-160H400v160ZM180-400h160v-160H180v160Zm440 0h160v-160H620v160ZM180-180h160v-160H180v160Zm440 0h160v-160H620v160Z\"/>\n",
              "  </svg>\n",
              "    </button>\n",
              "\n",
              "  <style>\n",
              "    .colab-df-container {\n",
              "      display:flex;\n",
              "      gap: 12px;\n",
              "    }\n",
              "\n",
              "    .colab-df-convert {\n",
              "      background-color: #E8F0FE;\n",
              "      border: none;\n",
              "      border-radius: 50%;\n",
              "      cursor: pointer;\n",
              "      display: none;\n",
              "      fill: #1967D2;\n",
              "      height: 32px;\n",
              "      padding: 0 0 0 0;\n",
              "      width: 32px;\n",
              "    }\n",
              "\n",
              "    .colab-df-convert:hover {\n",
              "      background-color: #E2EBFA;\n",
              "      box-shadow: 0px 1px 2px rgba(60, 64, 67, 0.3), 0px 1px 3px 1px rgba(60, 64, 67, 0.15);\n",
              "      fill: #174EA6;\n",
              "    }\n",
              "\n",
              "    .colab-df-buttons div {\n",
              "      margin-bottom: 4px;\n",
              "    }\n",
              "\n",
              "    [theme=dark] .colab-df-convert {\n",
              "      background-color: #3B4455;\n",
              "      fill: #D2E3FC;\n",
              "    }\n",
              "\n",
              "    [theme=dark] .colab-df-convert:hover {\n",
              "      background-color: #434B5C;\n",
              "      box-shadow: 0px 1px 3px 1px rgba(0, 0, 0, 0.15);\n",
              "      filter: drop-shadow(0px 1px 2px rgba(0, 0, 0, 0.3));\n",
              "      fill: #FFFFFF;\n",
              "    }\n",
              "  </style>\n",
              "\n",
              "    <script>\n",
              "      const buttonEl =\n",
              "        document.querySelector('#df-a372dba3-f1c2-4568-b619-8c55583d2d96 button.colab-df-convert');\n",
              "      buttonEl.style.display =\n",
              "        google.colab.kernel.accessAllowed ? 'block' : 'none';\n",
              "\n",
              "      async function convertToInteractive(key) {\n",
              "        const element = document.querySelector('#df-a372dba3-f1c2-4568-b619-8c55583d2d96');\n",
              "        const dataTable =\n",
              "          await google.colab.kernel.invokeFunction('convertToInteractive',\n",
              "                                                    [key], {});\n",
              "        if (!dataTable) return;\n",
              "\n",
              "        const docLinkHtml = 'Like what you see? Visit the ' +\n",
              "          '<a target=\"_blank\" href=https://colab.research.google.com/notebooks/data_table.ipynb>data table notebook</a>'\n",
              "          + ' to learn more about interactive tables.';\n",
              "        element.innerHTML = '';\n",
              "        dataTable['output_type'] = 'display_data';\n",
              "        await google.colab.output.renderOutput(dataTable, element);\n",
              "        const docLink = document.createElement('div');\n",
              "        docLink.innerHTML = docLinkHtml;\n",
              "        element.appendChild(docLink);\n",
              "      }\n",
              "    </script>\n",
              "  </div>\n",
              "\n",
              "\n",
              "<div id=\"df-0e58976b-10b2-453a-bfcf-e23537b8cddb\">\n",
              "  <button class=\"colab-df-quickchart\" onclick=\"quickchart('df-0e58976b-10b2-453a-bfcf-e23537b8cddb')\"\n",
              "            title=\"Suggest charts\"\n",
              "            style=\"display:none;\">\n",
              "\n",
              "<svg xmlns=\"http://www.w3.org/2000/svg\" height=\"24px\"viewBox=\"0 0 24 24\"\n",
              "     width=\"24px\">\n",
              "    <g>\n",
              "        <path d=\"M19 3H5c-1.1 0-2 .9-2 2v14c0 1.1.9 2 2 2h14c1.1 0 2-.9 2-2V5c0-1.1-.9-2-2-2zM9 17H7v-7h2v7zm4 0h-2V7h2v10zm4 0h-2v-4h2v4z\"/>\n",
              "    </g>\n",
              "</svg>\n",
              "  </button>\n",
              "\n",
              "<style>\n",
              "  .colab-df-quickchart {\n",
              "      --bg-color: #E8F0FE;\n",
              "      --fill-color: #1967D2;\n",
              "      --hover-bg-color: #E2EBFA;\n",
              "      --hover-fill-color: #174EA6;\n",
              "      --disabled-fill-color: #AAA;\n",
              "      --disabled-bg-color: #DDD;\n",
              "  }\n",
              "\n",
              "  [theme=dark] .colab-df-quickchart {\n",
              "      --bg-color: #3B4455;\n",
              "      --fill-color: #D2E3FC;\n",
              "      --hover-bg-color: #434B5C;\n",
              "      --hover-fill-color: #FFFFFF;\n",
              "      --disabled-bg-color: #3B4455;\n",
              "      --disabled-fill-color: #666;\n",
              "  }\n",
              "\n",
              "  .colab-df-quickchart {\n",
              "    background-color: var(--bg-color);\n",
              "    border: none;\n",
              "    border-radius: 50%;\n",
              "    cursor: pointer;\n",
              "    display: none;\n",
              "    fill: var(--fill-color);\n",
              "    height: 32px;\n",
              "    padding: 0;\n",
              "    width: 32px;\n",
              "  }\n",
              "\n",
              "  .colab-df-quickchart:hover {\n",
              "    background-color: var(--hover-bg-color);\n",
              "    box-shadow: 0 1px 2px rgba(60, 64, 67, 0.3), 0 1px 3px 1px rgba(60, 64, 67, 0.15);\n",
              "    fill: var(--button-hover-fill-color);\n",
              "  }\n",
              "\n",
              "  .colab-df-quickchart-complete:disabled,\n",
              "  .colab-df-quickchart-complete:disabled:hover {\n",
              "    background-color: var(--disabled-bg-color);\n",
              "    fill: var(--disabled-fill-color);\n",
              "    box-shadow: none;\n",
              "  }\n",
              "\n",
              "  .colab-df-spinner {\n",
              "    border: 2px solid var(--fill-color);\n",
              "    border-color: transparent;\n",
              "    border-bottom-color: var(--fill-color);\n",
              "    animation:\n",
              "      spin 1s steps(1) infinite;\n",
              "  }\n",
              "\n",
              "  @keyframes spin {\n",
              "    0% {\n",
              "      border-color: transparent;\n",
              "      border-bottom-color: var(--fill-color);\n",
              "      border-left-color: var(--fill-color);\n",
              "    }\n",
              "    20% {\n",
              "      border-color: transparent;\n",
              "      border-left-color: var(--fill-color);\n",
              "      border-top-color: var(--fill-color);\n",
              "    }\n",
              "    30% {\n",
              "      border-color: transparent;\n",
              "      border-left-color: var(--fill-color);\n",
              "      border-top-color: var(--fill-color);\n",
              "      border-right-color: var(--fill-color);\n",
              "    }\n",
              "    40% {\n",
              "      border-color: transparent;\n",
              "      border-right-color: var(--fill-color);\n",
              "      border-top-color: var(--fill-color);\n",
              "    }\n",
              "    60% {\n",
              "      border-color: transparent;\n",
              "      border-right-color: var(--fill-color);\n",
              "    }\n",
              "    80% {\n",
              "      border-color: transparent;\n",
              "      border-right-color: var(--fill-color);\n",
              "      border-bottom-color: var(--fill-color);\n",
              "    }\n",
              "    90% {\n",
              "      border-color: transparent;\n",
              "      border-bottom-color: var(--fill-color);\n",
              "    }\n",
              "  }\n",
              "</style>\n",
              "\n",
              "  <script>\n",
              "    async function quickchart(key) {\n",
              "      const quickchartButtonEl =\n",
              "        document.querySelector('#' + key + ' button');\n",
              "      quickchartButtonEl.disabled = true;  // To prevent multiple clicks.\n",
              "      quickchartButtonEl.classList.add('colab-df-spinner');\n",
              "      try {\n",
              "        const charts = await google.colab.kernel.invokeFunction(\n",
              "            'suggestCharts', [key], {});\n",
              "      } catch (error) {\n",
              "        console.error('Error during call to suggestCharts:', error);\n",
              "      }\n",
              "      quickchartButtonEl.classList.remove('colab-df-spinner');\n",
              "      quickchartButtonEl.classList.add('colab-df-quickchart-complete');\n",
              "    }\n",
              "    (() => {\n",
              "      let quickchartButtonEl =\n",
              "        document.querySelector('#df-0e58976b-10b2-453a-bfcf-e23537b8cddb button');\n",
              "      quickchartButtonEl.style.display =\n",
              "        google.colab.kernel.accessAllowed ? 'block' : 'none';\n",
              "    })();\n",
              "  </script>\n",
              "</div>\n",
              "\n",
              "    </div>\n",
              "  </div>\n"
            ],
            "application/vnd.google.colaboratory.intrinsic+json": {
              "type": "dataframe",
              "summary": "{\n  \"name\": \"pd\",\n  \"rows\": 10,\n  \"fields\": [\n    {\n      \"column\": \"name\",\n      \"properties\": {\n        \"dtype\": \"string\",\n        \"num_unique_values\": 10,\n        \"samples\": [\n          \"num0\",\n          \"num3\",\n          \"num4\"\n        ],\n        \"semantic_type\": \"\",\n        \"description\": \"\"\n      }\n    },\n    {\n      \"column\": \"prediction\",\n      \"properties\": {\n        \"dtype\": \"number\",\n        \"std\": 3,\n        \"min\": 0,\n        \"max\": 8,\n        \"num_unique_values\": 5,\n        \"samples\": [\n          6,\n          8,\n          7\n        ],\n        \"semantic_type\": \"\",\n        \"description\": \"\"\n      }\n    }\n  ]\n}"
            }
          },
          "metadata": {},
          "execution_count": 29
        }
      ]
    },
    {
      "cell_type": "code",
      "source": [],
      "metadata": {
        "id": "-AaEb1T5fALC"
      },
      "execution_count": null,
      "outputs": []
    },
    {
      "cell_type": "markdown",
      "source": [
        "### Generating Images"
      ],
      "metadata": {
        "id": "MRJHju6mCVJX"
      }
    },
    {
      "cell_type": "code",
      "source": [
        "df = pd.DataFrame.from_dict(dataset)"
      ],
      "metadata": {
        "id": "MI8l-eQ1fBO5"
      },
      "execution_count": 53,
      "outputs": []
    },
    {
      "cell_type": "code",
      "source": [
        "df[df.cls_name == 8][\"image_path\"].iloc[0]"
      ],
      "metadata": {
        "colab": {
          "base_uri": "https://localhost:8080/",
          "height": 36
        },
        "id": "i3t5jx53fDrS",
        "outputId": "b12f9e8d-3869-4601-82c6-6343fdf39859"
      },
      "execution_count": 58,
      "outputs": [
        {
          "output_type": "execute_result",
          "data": {
            "text/plain": [
              "'/content/project_data/content/project_data/Validation_data/num8/img009-031.png'"
            ],
            "application/vnd.google.colaboratory.intrinsic+json": {
              "type": "string"
            }
          },
          "metadata": {},
          "execution_count": 58
        }
      ]
    },
    {
      "cell_type": "code",
      "source": [
        "import random\n",
        "\n",
        "\n",
        "# Rotates an image by a specified angle.\n",
        "def rotate_image(img, angle):\n",
        "    (h, w) = img.shape[:2]\n",
        "    center = (w // 2, h // 2)\n",
        "    M = cv2.getRotationMatrix2D(center, angle, 1.0)\n",
        "    rotated = cv2.warpAffine(img, M, (w, h))\n",
        "    return rotated\n",
        "\n",
        "# Function to blur an image with a Gaussian filter\n",
        "def blur_image(img):\n",
        "    blurred = cv2.GaussianBlur(img, (5, 5), 0)\n",
        "    return blurred\n",
        "\n",
        "# Function to adjust the brightness of an image\n",
        "def adjust_brightness(img, brightness_factor):\n",
        "  img = img.astype(np.float32)\n",
        "  img = img + brightness_factor\n",
        "  img = np.clip(img, 0, 255)\n",
        "  img = img.astype(np.uint8)\n",
        "  return img\n",
        "\n",
        "# Function to convert an image to black and white with inverted values\n",
        "def make_BlacknWhite(img):\n",
        "    img_gray = cv2.cvtColor(img, cv2.COLOR_RGB2GRAY)\n",
        "    bw = ~img_gray\n",
        "    bw = cv2.cvtColor(bw,cv2.COLOR_GRAY2RGB)\n",
        "    return bw\n",
        "\n",
        "\n",
        "# Generates a specified number of augmented images for a given class.\n",
        "def agument(cls,ncount):\n",
        "    img_name = df[df.cls_name == cls][\"image_path\"].iloc[0]\n",
        "    img = cv2.imread(img_name)\n",
        "    img = cv2.cvtColor(img, cv2.COLOR_BGR2RGB)\n",
        "\n",
        "    for i in range(ncount):\n",
        "        angle_range = random.randrange(-30,30,10)\n",
        "        brightness_range = random.randrange(-100,100,10)\n",
        "\n",
        "        print(angle_range, brightness_range)\n",
        "        x1 = rotate_image(img.copy(), angle_range)\n",
        "        x2 = adjust_brightness(img.copy(),brightness_range)\n",
        "        x3 = blur_image(img.copy())\n",
        "        x4 = make_BlacknWhite(img.copy())\n",
        "\n",
        "        print(x1.shape,x2.shape,x3.shape,x4.shape)\n",
        "        fig = np.concatenate([x1,x2,x3,x4],1)\n",
        "\n",
        "        plt.imshow(fig)\n",
        "        plt.show()\n",
        "    return\n",
        "\n"
      ],
      "metadata": {
        "id": "xbyUL2rmCkMT"
      },
      "execution_count": 92,
      "outputs": []
    },
    {
      "cell_type": "code",
      "source": [
        "agument(cls=4,ncount=10)"
      ],
      "metadata": {
        "colab": {
          "base_uri": "https://localhost:8080/",
          "height": 1000
        },
        "id": "Kneiiuc3FMWc",
        "outputId": "25173ca4-7734-4407-add1-7e9da3ce2e32"
      },
      "execution_count": 94,
      "outputs": [
        {
          "output_type": "stream",
          "name": "stdout",
          "text": [
            "-20 40\n",
            "(900, 1200, 3) (900, 1200, 3) (900, 1200, 3) (900, 1200, 3)\n"
          ]
        },
        {
          "output_type": "display_data",
          "data": {
            "text/plain": [
              "<Figure size 640x480 with 1 Axes>"
            ],
            "image/png": "[encoded data removed]"
          },
          "metadata": {}
        },
        {
          "output_type": "stream",
          "name": "stdout",
          "text": [
            "0 10\n",
            "(900, 1200, 3) (900, 1200, 3) (900, 1200, 3) (900, 1200, 3)\n"
          ]
        },
        {
          "output_type": "display_data",
          "data": {
            "text/plain": [
              "<Figure size 640x480 with 1 Axes>"
            ],
            "image/png": "[encoded data removed]"
          },
          "metadata": {}
        },
        {
          "output_type": "stream",
          "name": "stdout",
          "text": [
            "10 -30\n",
            "(900, 1200, 3) (900, 1200, 3) (900, 1200, 3) (900, 1200, 3)\n"
          ]
        },
        {
          "output_type": "display_data",
          "data": {
            "text/plain": [
              "<Figure size 640x480 with 1 Axes>"
            ],
            "image/png": "[encoded data removed]"
          },
          "metadata": {}
        },
        {
          "output_type": "stream",
          "name": "stdout",
          "text": [
            "-30 20\n",
            "(900, 1200, 3) (900, 1200, 3) (900, 1200, 3) (900, 1200, 3)\n"
          ]
        },
        {
          "output_type": "display_data",
          "data": {
            "text/plain": [
              "<Figure size 640x480 with 1 Axes>"
            ],
            "image/png": "[encoded data removed]"
          },
          "metadata": {}
        },
        {
          "output_type": "stream",
          "name": "stdout",
          "text": [
            "10 40\n",
            "(900, 1200, 3) (900, 1200, 3) (900, 1200, 3) (900, 1200, 3)\n"
          ]
        },
        {
          "output_type": "display_data",
          "data": {
            "text/plain": [
              "<Figure size 640x480 with 1 Axes>"
            ],
            "image/png": "[encoded data removed]"
          },
          "metadata": {}
        },
        {
          "output_type": "stream",
          "name": "stdout",
          "text": [
            "10 -10\n",
            "(900, 1200, 3) (900, 1200, 3) (900, 1200, 3) (900, 1200, 3)\n"
          ]
        },
        {
          "output_type": "display_data",
          "data": {
            "text/plain": [
              "<Figure size 640x480 with 1 Axes>"
            ],
            "image/png": "[encoded data removed]"
          },
          "metadata": {}
        },
        {
          "output_type": "stream",
          "name": "stdout",
          "text": [
            "-20 40\n",
            "(900, 1200, 3) (900, 1200, 3) (900, 1200, 3) (900, 1200, 3)\n"
          ]
        },
        {
          "output_type": "display_data",
          "data": {
            "text/plain": [
              "<Figure size 640x480 with 1 Axes>"
            ],
            "image/png": "[encoded data removed]"
          },
          "metadata": {}
        },
        {
          "output_type": "stream",
          "name": "stdout",
          "text": [
            "0 70\n",
            "(900, 1200, 3) (900, 1200, 3) (900, 1200, 3) (900, 1200, 3)\n"
          ]
        },
        {
          "output_type": "display_data",
          "data": {
            "text/plain": [
              "<Figure size 640x480 with 1 Axes>"
            ],
            "image/png": "[encoded data removed]"
          },
          "metadata": {}
        },
        {
          "output_type": "stream",
          "name": "stdout",
          "text": [
            "10 -50\n",
            "(900, 1200, 3) (900, 1200, 3) (900, 1200, 3) (900, 1200, 3)\n"
          ]
        },
        {
          "output_type": "display_data",
          "data": {
            "text/plain": [
              "<Figure size 640x480 with 1 Axes>"
            ],
            "image/png": "[encoded data removed]"
          },
          "metadata": {}
        },
        {
          "output_type": "stream",
          "name": "stdout",
          "text": [
            "20 40\n",
            "(900, 1200, 3) (900, 1200, 3) (900, 1200, 3) (900, 1200, 3)\n"
          ]
        },
        {
          "output_type": "display_data",
          "data": {
            "text/plain": [
              "<Figure size 640x480 with 1 Axes>"
            ],
            "image/png": "[encoded data removed]"
          },
          "metadata": {}
        }
      ]
    },
    {
      "cell_type": "code",
      "source": [],
      "metadata": {
        "id": "Tsq0zwU8d_7F"
      },
      "execution_count": null,
      "outputs": []
    }
  ]
}